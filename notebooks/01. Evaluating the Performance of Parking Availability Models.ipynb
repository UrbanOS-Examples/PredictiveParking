{
 "cells": [
  {
   "cell_type": "markdown",
   "metadata": {},
   "source": [
    "# Overview\n",
    "Currently, there are no overarching measurements of the performance of the parking demand model taking place in this repository. To inform conversations about the accuracy of the model, we should develop a testing methodology and use it to record performance metrics for the current (and future) model.\n",
    "\n",
    "The outcome of this work should be a notebook in which our testing approach is clearly documented and applied to the current model. Said documentation should include\n",
    "\n",
    "- [ ] which metrics are being tracked (e.g., MAE & MAPE, forecast bias, etc.)\n",
    "- [ ] the testing strategy at play (e.g., variants of out-of-sample/holdout, prequential, and cross-validation)\n",
    "\n",
    "and our motivation for the choices made in our testing approach. This or a separate notebook should also include\n",
    "\n",
    "- [ ] metric values for the current production model and\n",
    "- [ ] relevant visualizations\n",
    "\n",
    "based on parking zones, times of day, etc."
   ]
  },
  {
   "cell_type": "markdown",
   "metadata": {},
   "source": [
    "# Proposed Testing Methodology\n",
    "As a quick first pass, we suggest the following simple testing methodology.\n",
    "\n",
    "## Assumptions\n",
    "1. The parking zones in operation for at least one year prior to the COVID-19 pandemic can serve as a representative sample of all parking zones for which predictions are desired, past and present.\n",
    "2. ParkColumbus will only be fetching same-day parking predictions.\n",
    "3. Training will occur once a day in the evening.\n",
    "\n",
    "## Methodology\n",
    "We will restrict to a subset `data` of the dataset consisting of the records\n",
    "- from 2018-09-17 (a Monday) to 2019-09-27 (a Saturday)\n",
    "- for all zones that existed and continuously reported transaction data throughout that time period.\n",
    "\n",
    "Beginning with a date `start_date` ranging from the first Monday (2018-09-17) and continuing through the first Saturday (2018-09-22) with records in `data`, we will proceed as follows:\n",
    "1. Train a fresh instance of the model under test using all records in `data` between `start_date` at 8:00 AM (inclusive) and `end_date` at 10:00 PM (exclusive), where `end_date` is the day $7 \\cdot 53 - 1 = 370$ days after `start_date`.\n",
    "  - $370$ days is chosen so that the training dataset (a) contains the same number of each day of the week, (b) contains at least one year of data, and (c) ends on the day of the week preceding `start_date`'s day of the week\n",
    "  - For instance, when `start_date` is Tuesday, September 18th, 2018, the training dataset will end with the data from Monday, September 23rd, 2019.\n",
    "2. Request predictions from this newly-trained model for all half hour intervals between 8:00 AM and 10:00 PM the day after `end_date`, for each zone in `data`.\n",
    "3. Compute the **mean absolute error** (**MAE**) and **seasonal scaled mean absolute scaled error** (**sMASE**) by zone and half hour interval.\n",
    "  - When calculating the MAE and sMASE, one should compute the residuals at every half hour time step during the test date from 8:00–8:30 AM to 9:30–10:00 PM.\n",
    "  - When computing sMASE values by zone, a seasonality lag of\n",
    "  \n",
    "    $$\n",
    "        \\langle\\text{daily half-hour operating periods}\\rangle\n",
    "        \\cdot \\langle\\text{days in operation per week}\\rangle\n",
    "        =\n",
    "        28 \\cdot 6\n",
    "    $$\n",
    "    \n",
    "    should be assumed.\n",
    "\n",
    "## Discussion\n",
    "Note that neither of the metrics we are using are particularly traditional in the time series space, but arise due to our nightly training procedure. Since we are only training each evening (rather than in an online manner throughout the day), using traditional forecasting errors $e_t = y_t - \\hat{y}_{t | t - 1}$ would give us a skewed (and, likely, inflated) picture of the performance of our forecasts. As such, we calculate the MAE and sMASE for not one step ahead but the next $28$ steps (full day) in each zone.\n",
    "\n",
    "The COVID-19 pandemic resulted in a drastic reduction in commuters and shoppers in high-traffic areas of Columbus, and most of the parking demand data from 2020 is wildly different than the data from 2018–2019 accordingly. It also is reasonable to assume that post-pandemic data will be closer aligned to pre-pandemic data than in-pandemic data. By restricting to 2018–2019 data when evaluating models, we obtain a much more realistic picture of how capable our models will be at predicting demand in the future.\n",
    "\n",
    "This approach is, unfortunately, not without limitations. When enough data is available, it will be useful to evaluate how the model performs on similar tests season-by-season or month-by-month. With the current data, we might at very least include similar evaluations with prediction dates chosen from the months of October 2019 through February 2020, but we've omitted this sort of test due to limited time constraints.\n",
    "\n",
    "We are also only evaluating high-level, easily interpretable metrics for models (so that the resulting number are easily explained to business stakeholders). This leaves room for additional metrics being needed to justify the use of a new model architecture over an old one (such as a variant of forecast error/bias, residual autocorrelation measures, etc.). We leave that problem to the intrepid data scientist of the future who continues to upgrade these models."
   ]
  },
  {
   "cell_type": "markdown",
   "metadata": {},
   "source": [
    "# Preparing the Environment"
   ]
  },
  {
   "cell_type": "code",
   "execution_count": 2,
   "metadata": {},
   "outputs": [],
   "source": [
    "import datetime as dt\n",
    "import os\n",
    "from dataclasses import dataclass\n",
    "from pathlib import Path\n",
    "\n",
    "import git\n",
    "import numpy as np\n",
    "import pandas as pd\n",
    "import pyodbc\n",
    "from sktime.forecasting.model_selection import temporal_train_test_split\n",
    "from sqlalchemy import create_engine\n",
    "from tqdm.notebook import tqdm\n",
    "\n",
    "REPO_ROOT = Path(git.Repo('.', search_parent_directories=True).working_tree_dir).absolute()\n",
    "OCCUPANCY_FEATHER_PATH = REPO_ROOT / 'data' / 'raw' / 'parking_zone_occupancy_aggr.feather'\n",
    "\n",
    "%cd -q $REPO_ROOT\n",
    "\n",
    "import app.keeper_of_the_state\n",
    "from app.constants import DAY_OF_WEEK\n",
    "from app.constants import UNENFORCED_DAYS\n",
    "from app.data_formats import APIPredictionRequest\n",
    "from app.model import ModelFeatures, ParkingAvailabilityModel"
   ]
  },
  {
   "cell_type": "markdown",
   "metadata": {},
   "source": [
    "# Retrieving Production Dataset"
   ]
  },
  {
   "cell_type": "code",
   "execution_count": 3,
   "metadata": {},
   "outputs": [],
   "source": [
    "if OCCUPANCY_FEATHER_PATH.exists():\n",
    "    occupancy = pd.read_feather(OCCUPANCY_FEATHER_PATH)\n",
    "else:\n",
    "    occupancy = pd.read_sql_query(\n",
    "        r'''\n",
    "            SELECT *\n",
    "            FROM [dbo].[parking_zone_occupancy_aggr]\n",
    "            ORDER BY zone_name, semihour\n",
    "        ''',\n",
    "        'mssql+pyodbc://{user}:{password}@{server_url}:{server_port}/{database}?driver={driver}'.format(\n",
    "            user='padmin',\n",
    "            password=os.getenv('SQL_SERVER_PASSWORD'),\n",
    "            server_url='dev-data-science-parking-prediction.crrvm15jali6.us-west-2.rds.amazonaws.com',\n",
    "            server_port='1433',\n",
    "            database='parking_prediction',\n",
    "            driver='ODBC+Driver+17+for+SQL+Server'\n",
    "        )\n",
    "    )\n",
    "    occupancy.to_feather(OCCUPANCY_FEATHER_PATH)"
   ]
  },
  {
   "cell_type": "markdown",
   "metadata": {},
   "source": [
    "This results in a rather hefty `DataFrame`."
   ]
  },
  {
   "cell_type": "code",
   "execution_count": 4,
   "metadata": {},
   "outputs": [
    {
     "name": "stdout",
     "output_type": "stream",
     "text": [
      "<class 'pandas.core.frame.DataFrame'>\n",
      "RangeIndex: 16006949 entries, 0 to 16006948\n",
      "Data columns (total 14 columns):\n",
      " #   Column                Non-Null Count     Dtype         \n",
      "---  ------                --------------     -----         \n",
      " 0   zocc_id               16006949 non-null  int64         \n",
      " 1   zone_name             16006949 non-null  object        \n",
      " 2   semihour              16006949 non-null  datetime64[ns]\n",
      " 3   occu_min              16006949 non-null  float64       \n",
      " 4   occu_mtr_cnt          16006949 non-null  int64         \n",
      " 5   no_trxn_one_day_flg   16006949 non-null  int64         \n",
      " 6   no_trxn_one_week_flg  16006949 non-null  int64         \n",
      " 7   load_on               16006949 non-null  datetime64[ns]\n",
      " 8   total_cnt             16006949 non-null  int64         \n",
      " 9   occu_min_rate         16006949 non-null  float64       \n",
      " 10  occu_cnt_rate         16006949 non-null  float64       \n",
      " 11  city_holiday          389424 non-null    object        \n",
      " 12  shortnorth_event      0 non-null         object        \n",
      " 13  no_data               16006949 non-null  int64         \n",
      "dtypes: datetime64[ns](2), float64(3), int64(6), object(3)\n",
      "memory usage: 3.0 GB\n"
     ]
    }
   ],
   "source": [
    "occupancy.info(null_counts=True, memory_usage='deep')"
   ]
  },
  {
   "cell_type": "markdown",
   "metadata": {},
   "source": [
    "## Applying Business Rules\n",
    "While model-specific dataset transformations are confined to model implementations (in `app/model.py`), two dataset invariants that are operations-specific are enforced in `train.py` before data is passed into a new model:\n",
    "\n",
    "1. Parking meters at which no transactions have occurred for a week are removed.\n",
    "2. Records for times more than 30 minutes before/after the hours of operation for parking meters are removed.\n",
    "\n",
    "Both of these filters are reasonable to apply when evaluating a model's performance, as well."
   ]
  },
  {
   "cell_type": "code",
   "execution_count": 5,
   "metadata": {},
   "outputs": [],
   "source": [
    "def remove_unoccupied_timeslots(occupancy_dataframe: pd.DataFrame) -> pd.DataFrame:\n",
    "    return occupancy_dataframe.loc[(\n",
    "        (occupancy_dataframe.no_data != 1)\n",
    "      & (occupancy_dataframe.no_trxn_one_week_flg != 1)\n",
    "    )]\n",
    "\n",
    "\n",
    "def remove_times_outside_hours_of_operation(occupancy_dataframe: pd.DataFrame) -> pd.DataFrame:\n",
    "    enforcement_days = [day.value for day in DAY_OF_WEEK\n",
    "                        if day not in UNENFORCED_DAYS]\n",
    "    return (\n",
    "        occupancy_dataframe\n",
    "            .set_index('semihour')\n",
    "            .between_time('08:00', '22:00', include_end=False)\n",
    "            .reset_index()\n",
    "            .loc[lambda df: df.semihour.dt.dayofweek.isin(enforcement_days), :]\n",
    "    )\n",
    "\n",
    "\n",
    "occupancy = (occupancy.rename(columns={'zone_name': 'zone_id'})\n",
    "                      .pipe(remove_unoccupied_timeslots)\n",
    "                      .pipe(remove_times_outside_hours_of_operation))"
   ]
  },
  {
   "cell_type": "markdown",
   "metadata": {},
   "source": [
    "Given the hours of operation of Columbus parking meters, it's unsurprising that this roughly halves the amount of data in our dataset."
   ]
  },
  {
   "cell_type": "code",
   "execution_count": 6,
   "metadata": {},
   "outputs": [
    {
     "name": "stdout",
     "output_type": "stream",
     "text": [
      "<class 'pandas.core.frame.DataFrame'>\n",
      "Int64Index: 6506324 entries, 532 to 7615400\n",
      "Data columns (total 14 columns):\n",
      " #   Column                Non-Null Count    Dtype         \n",
      "---  ------                --------------    -----         \n",
      " 0   semihour              6506324 non-null  datetime64[ns]\n",
      " 1   zocc_id               6506324 non-null  int64         \n",
      " 2   zone_id               6506324 non-null  object        \n",
      " 3   occu_min              6506324 non-null  float64       \n",
      " 4   occu_mtr_cnt          6506324 non-null  int64         \n",
      " 5   no_trxn_one_day_flg   6506324 non-null  int64         \n",
      " 6   no_trxn_one_week_flg  6506324 non-null  int64         \n",
      " 7   load_on               6506324 non-null  datetime64[ns]\n",
      " 8   total_cnt             6506324 non-null  int64         \n",
      " 9   occu_min_rate         6506324 non-null  float64       \n",
      " 10  occu_cnt_rate         6506324 non-null  float64       \n",
      " 11  city_holiday          58281 non-null    object        \n",
      " 12  shortnorth_event      0 non-null        object        \n",
      " 13  no_data               6506324 non-null  int64         \n",
      "dtypes: datetime64[ns](2), float64(3), int64(6), object(3)\n",
      "memory usage: 1.3 GB\n"
     ]
    }
   ],
   "source": [
    "occupancy.info(null_counts=True, memory_usage='deep')"
   ]
  },
  {
   "cell_type": "markdown",
   "metadata": {},
   "source": [
    "# Restricting to Data within Testing Range"
   ]
  },
  {
   "cell_type": "markdown",
   "metadata": {},
   "source": [
    "## Generating Training and Testing Time Bounds"
   ]
  },
  {
   "cell_type": "code",
   "execution_count": 7,
   "metadata": {},
   "outputs": [
    {
     "name": "stderr",
     "output_type": "stream",
     "text": [
      "<ipython-input-7-39f80e832ced>:29: UserWarning: Discarding nonzero nanoseconds in conversion\n",
      "  example_test_start, example_test_end = testing_bounds(example_first_day)\n",
      "/Users/daniel.r.moore/Library/Caches/pypoetry/virtualenvs/predictive-parking-J8Xdfjko-py3.8/lib/python3.8/site-packages/IPython/core/interactiveshell.py:3417: UserWarning: Discarding nonzero nanoseconds in conversion\n",
      "  exec(code_obj, self.user_global_ns, self.user_ns)\n"
     ]
    }
   ],
   "source": [
    "TRAINING_WEEKS = 53\n",
    "\n",
    "\n",
    "def training_end_offset(number_of_weeks=TRAINING_WEEKS, with_hours=True):\n",
    "    offset_arguments = {'days': 7 * number_of_weeks - 1}\n",
    "    if with_hours:\n",
    "        offset_arguments['hours'] = 22\n",
    "    return pd.DateOffset(**offset_arguments)\n",
    "\n",
    "\n",
    "def training_bounds(start_date, number_of_weeks=TRAINING_WEEKS):\n",
    "    start_date = pd.Timestamp(start_date).normalize()\n",
    "    start_timestamp = start_date + pd.DateOffset(hours=8)\n",
    "    end_timestamp = start_date + training_end_offset(number_of_weeks) - pd.Timedelta('1 nanosecond')\n",
    "    return start_timestamp, end_timestamp\n",
    "\n",
    "\n",
    "def testing_bounds(training_start_date, training_weeks=TRAINING_WEEKS):\n",
    "    training_end_date = training_bounds(training_start_date, number_of_weeks=training_weeks)[1]\n",
    "    testing_end_date = training_end_date + pd.DateOffset(days=1)\n",
    "    testing_start_date = testing_end_date.normalize() + pd.DateOffset(hours=8)\n",
    "    return testing_start_date, testing_end_date\n",
    "\n",
    "\n",
    "example_first_day = '2018-09-17'\n",
    "example_first_day_ts = pd.Timestamp(example_first_day)\n",
    "\n",
    "example_train_start, example_train_end = training_bounds(example_first_day)\n",
    "example_test_start, example_test_end = testing_bounds(example_first_day)\n",
    "\n",
    "assert example_first_day_ts.normalize() == example_train_start.normalize()\n",
    "assert (example_train_end - example_train_start).days == 7 * TRAINING_WEEKS - 1\n",
    "assert example_train_start.day_name() == (example_train_end + pd.DateOffset(days=1)).day_name()\n",
    "assert example_test_start.normalize() == example_train_end.normalize() + pd.DateOffset(days=1)\n",
    "assert example_test_start.normalize() == example_test_end.normalize()"
   ]
  },
  {
   "cell_type": "markdown",
   "metadata": {},
   "source": [
    "## Restricting `occupancy` to the Training & Testing Period"
   ]
  },
  {
   "cell_type": "code",
   "execution_count": 107,
   "metadata": {},
   "outputs": [
    {
     "name": "stderr",
     "output_type": "stream",
     "text": [
      "<ipython-input-107-d63922083768>:4: UserWarning: Discarding nonzero nanoseconds in conversion\n",
      "  LATEST_TESTING_DATETIME = testing_bounds(TRAINING_START_DATES[-1])[1]\n"
     ]
    }
   ],
   "source": [
    "TRAINING_START_DATES = [f'2018-09-{day}' for day in range(17, 23)]\n",
    "\n",
    "EARLIEST_TRAINING_DATETIME = training_bounds(TRAINING_START_DATES[0])[0]\n",
    "LATEST_TESTING_DATETIME = testing_bounds(TRAINING_START_DATES[-1])[1]\n",
    "\n",
    "occupancy = occupancy[occupancy.semihour.between(EARLIEST_TRAINING_DATETIME, LATEST_TESTING_DATETIME)]"
   ]
  },
  {
   "cell_type": "markdown",
   "metadata": {},
   "source": [
    "## Generating Training and Testing Datasets"
   ]
  },
  {
   "cell_type": "code",
   "execution_count": 94,
   "metadata": {},
   "outputs": [
    {
     "name": "stderr",
     "output_type": "stream",
     "text": [
      "<ipython-input-94-00cd7e062453>:19: UserWarning: Discarding nonzero nanoseconds in conversion\n",
      "  testing_start, testing_end = testing_bounds(training_start_date)\n"
     ]
    }
   ],
   "source": [
    "def zones_spanning_period(df, start_date, end_date, zone_column='zone_id', timestamp_column='semihour',\n",
    "                          eps=pd.Timedelta(minutes=30)):\n",
    "    '''\n",
    "    Returns all zones in `df` with records from `start_date` to `end_date`\n",
    "    (inclusive).\n",
    "    \n",
    "    Zones are admitted if they are associated with records within `eps` of both\n",
    "    bounds (exclusive).\n",
    "    '''\n",
    "    zone_is_admissible = (\n",
    "        (df.groupby(zone_column)[timestamp_column].min() - start_date < eps) &\n",
    "        (end_date - df.groupby(zone_column)[timestamp_column].max() < eps)\n",
    "    )\n",
    "    return zone_is_admissible[zone_is_admissible].index\n",
    "\n",
    "\n",
    "def training_and_testing_data(df, training_start_date, timestamp_column='semihour', zone_column='zone_id'):\n",
    "    training_start, training_end = training_bounds(training_start_date)\n",
    "    testing_start, testing_end = testing_bounds(training_start_date)\n",
    "\n",
    "    train_data = df[df[timestamp_column].between(training_start, training_end)]\n",
    "    test_data = df[df[timestamp_column].between(testing_start, testing_end)]\n",
    "\n",
    "    zones_under_test = zones_spanning_period(\n",
    "        df, training_start, testing_end,\n",
    "        timestamp_column=timestamp_column, zone_column=zone_column\n",
    "    )\n",
    "\n",
    "    return (\n",
    "        train_data[train_data[zone_column].isin(zones_under_test)],\n",
    "        test_data[test_data[zone_column].isin(zones_under_test)]\n",
    "    )\n",
    "\n",
    "\n",
    "example_train, example_test = training_and_testing_data(occupancy, example_first_day)\n",
    "\n",
    "assert example_train.semihour.min() == example_train_start\n",
    "assert (\n",
    "    example_train_end - example_train.semihour.max() <= pd.Timedelta(minutes=30)\n",
    "    or (\n",
    "        example_train_end - example_train.semihour.max() <= pd.Timedelta(days=1, minutes=30)\n",
    "        and example_train_start.day_name() == 'Monday'\n",
    "    )\n",
    ")\n",
    "\n",
    "assert example_test.semihour.min() == example_test_start\n",
    "assert example_test_end - example_test.semihour.max() < pd.Timedelta(minutes=30)"
   ]
  },
  {
   "cell_type": "markdown",
   "metadata": {},
   "source": [
    "## Restricting to zones present in 2018–2019"
   ]
  },
  {
   "cell_type": "code",
   "execution_count": 102,
   "metadata": {},
   "outputs": [],
   "source": [
    "ALL_ZONES_UNDER_TEST = zones_spanning_period(occupancy, EARLIEST_TRAINING_DATETIME, LATEST_TESTING_DATETIME)\n",
    "\n",
    "occupancy = occupancy[occupancy.zone_id.isin(ALL_ZONES_UNDER_TEST)]"
   ]
  },
  {
   "cell_type": "markdown",
   "metadata": {},
   "source": [
    "# Testing the Current Production Model"
   ]
  },
  {
   "cell_type": "markdown",
   "metadata": {},
   "source": [
    "## Generating Model Features\n",
    "Our current production model takes in a parking zone ID and one-hot encoded variables representing the \"semihour\" (half hour interval) of operation and day of the week for the prediction request. Training is performed using _availability_ – as opposed to _occupancy_ – rates as predicted values."
   ]
  },
  {
   "cell_type": "code",
   "execution_count": 103,
   "metadata": {},
   "outputs": [],
   "source": [
    "occupancy = occupancy.assign(\n",
    "    available_rate=lambda df: 1 - df.occu_cnt_rate,\n",
    "    dayofweek=lambda df: df.semihour.dt.dayofweek.astype('category'),\n",
    "    semihour_tuples=lambda df: pd.Series(\n",
    "        zip(df.semihour.dt.hour, df.semihour.dt.minute),\n",
    "        dtype='category', index=df.index\n",
    "    )\n",
    ")\n",
    "\n",
    "semihour_onehots = pd.get_dummies(occupancy.semihour_tuples, drop_first=True)\n",
    "dayofweek_onehots = pd.get_dummies(occupancy.dayofweek, drop_first=True)"
   ]
  },
  {
   "cell_type": "markdown",
   "metadata": {},
   "source": [
    "## Generating Residuals for Zones Under Test"
   ]
  },
  {
   "cell_type": "code",
   "execution_count": 459,
   "metadata": {},
   "outputs": [
    {
     "data": {
      "application/vnd.jupyter.widget-view+json": {
       "model_id": "cc1febcf1fb0476fbafd5613df9851e6",
       "version_major": 2,
       "version_minor": 0
      },
      "text/plain": [
       "HBox(children=(FloatProgress(value=0.0, max=360.0), HTML(value='')))"
      ]
     },
     "metadata": {},
     "output_type": "display_data"
    },
    {
     "name": "stdout",
     "output_type": "stream",
     "text": [
      "\n"
     ]
    }
   ],
   "source": [
    "data_by_zone = {\n",
    "    zone_id: [\n",
    "        subset.index\n",
    "        for subset in temporal_train_test_split(\n",
    "            occupancy[occupancy.zone_id == zone_id],\n",
    "            train_size=training_records_count, test_size=test_records_count\n",
    "        )\n",
    "    ]\n",
    "    for zone_id in tqdm(ALL_ZONES_UNDER_TEST)\n",
    "}"
   ]
  },
  {
   "cell_type": "code",
   "execution_count": 461,
   "metadata": {},
   "outputs": [
    {
     "data": {
      "application/vnd.jupyter.widget-view+json": {
       "model_id": "eb9ae48322c14eae82effc3a3df8b477",
       "version_major": 2,
       "version_minor": 0
      },
      "text/plain": [
       "HBox(children=(FloatProgress(value=0.0, max=360.0), HTML(value='')))"
      ]
     },
     "metadata": {},
     "output_type": "display_data"
    },
    {
     "name": "stdout",
     "output_type": "stream",
     "text": [
      "\n"
     ]
    }
   ],
   "source": [
    "train_index = pd.Int64Index([])\n",
    "for train_idx, _ in tqdm(list(initial_splits.values())):\n",
    "    train_index = train_index.union(train_idx)\n",
    "\n",
    "test_zones = occupancy.loc[train_index].zone_id.unique()\n",
    "test_index_single_zone = list(initial_splits.values())[0][1]"
   ]
  },
  {
   "cell_type": "markdown",
   "metadata": {},
   "source": [
    "## Training models for each day of operation"
   ]
  },
  {
   "cell_type": "code",
   "execution_count": 108,
   "metadata": {},
   "outputs": [
    {
     "data": {
      "application/vnd.jupyter.widget-view+json": {
       "model_id": "6b95438974904abf96075a4bdc7f4571",
       "version_major": 2,
       "version_minor": 0
      },
      "text/plain": [
       "HBox(children=(FloatProgress(value=0.0, max=6.0), HTML(value='')))"
      ]
     },
     "metadata": {},
     "output_type": "display_data"
    },
    {
     "name": "stderr",
     "output_type": "stream",
     "text": [
      "<ipython-input-94-00cd7e062453>:19: UserWarning: Discarding nonzero nanoseconds in conversion\n",
      "  testing_start, testing_end = testing_bounds(training_start_date)\n"
     ]
    },
    {
     "name": "stdout",
     "output_type": "stream",
     "text": [
      "\n"
     ]
    },
    {
     "ename": "KeyboardInterrupt",
     "evalue": "",
     "output_type": "error",
     "traceback": [
      "\u001b[0;31m---------------------------------------------------------------------------\u001b[0m",
      "\u001b[0;31mKeyboardInterrupt\u001b[0m                         Traceback (most recent call last)",
      "\u001b[0;32m<ipython-input-108-211f8560413d>\u001b[0m in \u001b[0;36m<module>\u001b[0;34m\u001b[0m\n\u001b[1;32m      9\u001b[0m     \u001b[0mtrain\u001b[0m\u001b[0;34m,\u001b[0m \u001b[0mtest_sets_by_day\u001b[0m\u001b[0;34m[\u001b[0m\u001b[0mtraining_start_date\u001b[0m\u001b[0;34m]\u001b[0m \u001b[0;34m=\u001b[0m \u001b[0mtraining_and_testing_data\u001b[0m\u001b[0;34m(\u001b[0m\u001b[0moccupancy\u001b[0m\u001b[0;34m,\u001b[0m \u001b[0mtraining_start_date\u001b[0m\u001b[0;34m)\u001b[0m\u001b[0;34m\u001b[0m\u001b[0;34m\u001b[0m\u001b[0m\n\u001b[1;32m     10\u001b[0m \u001b[0;34m\u001b[0m\u001b[0m\n\u001b[0;32m---> 11\u001b[0;31m     \u001b[0mmodels_by_day\u001b[0m\u001b[0;34m[\u001b[0m\u001b[0mtraining_start_date\u001b[0m\u001b[0;34m]\u001b[0m\u001b[0;34m.\u001b[0m\u001b[0mtrain\u001b[0m\u001b[0;34m(\u001b[0m\u001b[0mtrain\u001b[0m\u001b[0;34m)\u001b[0m\u001b[0;34m\u001b[0m\u001b[0;34m\u001b[0m\u001b[0m\n\u001b[0m",
      "\u001b[0;32m~/workspace/PredictiveParking/app/model.py\u001b[0m in \u001b[0;36mtrain\u001b[0;34m(self, training_data)\u001b[0m\n\u001b[1;32m    163\u001b[0m             \u001b[0mLOGGER\u001b[0m\u001b[0;34m.\u001b[0m\u001b[0minfo\u001b[0m\u001b[0;34m(\u001b[0m\u001b[0;34mf'Processing zone {zone}'\u001b[0m\u001b[0;34m)\u001b[0m\u001b[0;34m\u001b[0m\u001b[0;34m\u001b[0m\u001b[0m\n\u001b[1;32m    164\u001b[0m             \u001b[0mX_cluster\u001b[0m \u001b[0;34m=\u001b[0m \u001b[0mX\u001b[0m\u001b[0;34m[\u001b[0m\u001b[0mzone_id\u001b[0m \u001b[0;34m==\u001b[0m \u001b[0mzone\u001b[0m\u001b[0;34m]\u001b[0m\u001b[0;34m\u001b[0m\u001b[0;34m\u001b[0m\u001b[0m\n\u001b[0;32m--> 165\u001b[0;31m             \u001b[0my_cluster\u001b[0m \u001b[0;34m=\u001b[0m \u001b[0my\u001b[0m\u001b[0;34m[\u001b[0m\u001b[0mzone_id\u001b[0m \u001b[0;34m==\u001b[0m \u001b[0mzone\u001b[0m\u001b[0;34m]\u001b[0m\u001b[0;34m\u001b[0m\u001b[0;34m\u001b[0m\u001b[0m\n\u001b[0m\u001b[1;32m    166\u001b[0m \u001b[0;34m\u001b[0m\u001b[0m\n\u001b[1;32m    167\u001b[0m             \u001b[0mLOGGER\u001b[0m\u001b[0;34m.\u001b[0m\u001b[0minfo\u001b[0m\u001b[0;34m(\u001b[0m\u001b[0;34mf'Total (row, col) counts: {X_cluster.shape}'\u001b[0m\u001b[0;34m)\u001b[0m\u001b[0;34m\u001b[0m\u001b[0;34m\u001b[0m\u001b[0m\n",
      "\u001b[0;32m~/Library/Caches/pypoetry/virtualenvs/predictive-parking-J8Xdfjko-py3.8/lib/python3.8/site-packages/pandas/core/ops/common.py\u001b[0m in \u001b[0;36mnew_method\u001b[0;34m(self, other)\u001b[0m\n\u001b[1;32m     63\u001b[0m         \u001b[0mother\u001b[0m \u001b[0;34m=\u001b[0m \u001b[0mitem_from_zerodim\u001b[0m\u001b[0;34m(\u001b[0m\u001b[0mother\u001b[0m\u001b[0;34m)\u001b[0m\u001b[0;34m\u001b[0m\u001b[0;34m\u001b[0m\u001b[0m\n\u001b[1;32m     64\u001b[0m \u001b[0;34m\u001b[0m\u001b[0m\n\u001b[0;32m---> 65\u001b[0;31m         \u001b[0;32mreturn\u001b[0m \u001b[0mmethod\u001b[0m\u001b[0;34m(\u001b[0m\u001b[0mself\u001b[0m\u001b[0;34m,\u001b[0m \u001b[0mother\u001b[0m\u001b[0;34m)\u001b[0m\u001b[0;34m\u001b[0m\u001b[0;34m\u001b[0m\u001b[0m\n\u001b[0m\u001b[1;32m     66\u001b[0m \u001b[0;34m\u001b[0m\u001b[0m\n\u001b[1;32m     67\u001b[0m     \u001b[0;32mreturn\u001b[0m \u001b[0mnew_method\u001b[0m\u001b[0;34m\u001b[0m\u001b[0;34m\u001b[0m\u001b[0m\n",
      "\u001b[0;32m~/Library/Caches/pypoetry/virtualenvs/predictive-parking-J8Xdfjko-py3.8/lib/python3.8/site-packages/pandas/core/ops/__init__.py\u001b[0m in \u001b[0;36mwrapper\u001b[0;34m(self, other)\u001b[0m\n\u001b[1;32m    368\u001b[0m         \u001b[0mrvalues\u001b[0m \u001b[0;34m=\u001b[0m \u001b[0mextract_array\u001b[0m\u001b[0;34m(\u001b[0m\u001b[0mother\u001b[0m\u001b[0;34m,\u001b[0m \u001b[0mextract_numpy\u001b[0m\u001b[0;34m=\u001b[0m\u001b[0;32mTrue\u001b[0m\u001b[0;34m)\u001b[0m\u001b[0;34m\u001b[0m\u001b[0;34m\u001b[0m\u001b[0m\n\u001b[1;32m    369\u001b[0m \u001b[0;34m\u001b[0m\u001b[0m\n\u001b[0;32m--> 370\u001b[0;31m         \u001b[0mres_values\u001b[0m \u001b[0;34m=\u001b[0m \u001b[0mcomparison_op\u001b[0m\u001b[0;34m(\u001b[0m\u001b[0mlvalues\u001b[0m\u001b[0;34m,\u001b[0m \u001b[0mrvalues\u001b[0m\u001b[0;34m,\u001b[0m \u001b[0mop\u001b[0m\u001b[0;34m)\u001b[0m\u001b[0;34m\u001b[0m\u001b[0;34m\u001b[0m\u001b[0m\n\u001b[0m\u001b[1;32m    371\u001b[0m \u001b[0;34m\u001b[0m\u001b[0m\n\u001b[1;32m    372\u001b[0m         \u001b[0;32mreturn\u001b[0m \u001b[0mself\u001b[0m\u001b[0;34m.\u001b[0m\u001b[0m_construct_result\u001b[0m\u001b[0;34m(\u001b[0m\u001b[0mres_values\u001b[0m\u001b[0;34m,\u001b[0m \u001b[0mname\u001b[0m\u001b[0;34m=\u001b[0m\u001b[0mres_name\u001b[0m\u001b[0;34m)\u001b[0m\u001b[0;34m\u001b[0m\u001b[0;34m\u001b[0m\u001b[0m\n",
      "\u001b[0;32m~/Library/Caches/pypoetry/virtualenvs/predictive-parking-J8Xdfjko-py3.8/lib/python3.8/site-packages/pandas/core/ops/array_ops.py\u001b[0m in \u001b[0;36mcomparison_op\u001b[0;34m(left, right, op)\u001b[0m\n\u001b[1;32m    237\u001b[0m \u001b[0;34m\u001b[0m\u001b[0m\n\u001b[1;32m    238\u001b[0m     \u001b[0;32melif\u001b[0m \u001b[0mis_object_dtype\u001b[0m\u001b[0;34m(\u001b[0m\u001b[0mlvalues\u001b[0m\u001b[0;34m.\u001b[0m\u001b[0mdtype\u001b[0m\u001b[0;34m)\u001b[0m\u001b[0;34m:\u001b[0m\u001b[0;34m\u001b[0m\u001b[0;34m\u001b[0m\u001b[0m\n\u001b[0;32m--> 239\u001b[0;31m         \u001b[0mres_values\u001b[0m \u001b[0;34m=\u001b[0m \u001b[0mcomp_method_OBJECT_ARRAY\u001b[0m\u001b[0;34m(\u001b[0m\u001b[0mop\u001b[0m\u001b[0;34m,\u001b[0m \u001b[0mlvalues\u001b[0m\u001b[0;34m,\u001b[0m \u001b[0mrvalues\u001b[0m\u001b[0;34m)\u001b[0m\u001b[0;34m\u001b[0m\u001b[0;34m\u001b[0m\u001b[0m\n\u001b[0m\u001b[1;32m    240\u001b[0m \u001b[0;34m\u001b[0m\u001b[0m\n\u001b[1;32m    241\u001b[0m     \u001b[0;32melse\u001b[0m\u001b[0;34m:\u001b[0m\u001b[0;34m\u001b[0m\u001b[0;34m\u001b[0m\u001b[0m\n",
      "\u001b[0;32m~/Library/Caches/pypoetry/virtualenvs/predictive-parking-J8Xdfjko-py3.8/lib/python3.8/site-packages/pandas/core/ops/array_ops.py\u001b[0m in \u001b[0;36mcomp_method_OBJECT_ARRAY\u001b[0;34m(op, x, y)\u001b[0m\n\u001b[1;32m     53\u001b[0m         \u001b[0mresult\u001b[0m \u001b[0;34m=\u001b[0m \u001b[0mlibops\u001b[0m\u001b[0;34m.\u001b[0m\u001b[0mvec_compare\u001b[0m\u001b[0;34m(\u001b[0m\u001b[0mx\u001b[0m\u001b[0;34m.\u001b[0m\u001b[0mravel\u001b[0m\u001b[0;34m(\u001b[0m\u001b[0;34m)\u001b[0m\u001b[0;34m,\u001b[0m \u001b[0my\u001b[0m\u001b[0;34m.\u001b[0m\u001b[0mravel\u001b[0m\u001b[0;34m(\u001b[0m\u001b[0;34m)\u001b[0m\u001b[0;34m,\u001b[0m \u001b[0mop\u001b[0m\u001b[0;34m)\u001b[0m\u001b[0;34m\u001b[0m\u001b[0;34m\u001b[0m\u001b[0m\n\u001b[1;32m     54\u001b[0m     \u001b[0;32melse\u001b[0m\u001b[0;34m:\u001b[0m\u001b[0;34m\u001b[0m\u001b[0;34m\u001b[0m\u001b[0m\n\u001b[0;32m---> 55\u001b[0;31m         \u001b[0mresult\u001b[0m \u001b[0;34m=\u001b[0m \u001b[0mlibops\u001b[0m\u001b[0;34m.\u001b[0m\u001b[0mscalar_compare\u001b[0m\u001b[0;34m(\u001b[0m\u001b[0mx\u001b[0m\u001b[0;34m.\u001b[0m\u001b[0mravel\u001b[0m\u001b[0;34m(\u001b[0m\u001b[0;34m)\u001b[0m\u001b[0;34m,\u001b[0m \u001b[0my\u001b[0m\u001b[0;34m,\u001b[0m \u001b[0mop\u001b[0m\u001b[0;34m)\u001b[0m\u001b[0;34m\u001b[0m\u001b[0;34m\u001b[0m\u001b[0m\n\u001b[0m\u001b[1;32m     56\u001b[0m     \u001b[0;32mreturn\u001b[0m \u001b[0mresult\u001b[0m\u001b[0;34m.\u001b[0m\u001b[0mreshape\u001b[0m\u001b[0;34m(\u001b[0m\u001b[0mx\u001b[0m\u001b[0;34m.\u001b[0m\u001b[0mshape\u001b[0m\u001b[0;34m)\u001b[0m\u001b[0;34m\u001b[0m\u001b[0;34m\u001b[0m\u001b[0m\n\u001b[1;32m     57\u001b[0m \u001b[0;34m\u001b[0m\u001b[0m\n",
      "\u001b[0;31mKeyboardInterrupt\u001b[0m: "
     ]
    }
   ],
   "source": [
    "models_by_day = {}\n",
    "test_sets_by_day = {}\n",
    "\n",
    "for training_start_date in tqdm(TRAINING_START_DATES):\n",
    "    models_by_day[training_start_date] = ParkingAvailabilityModel()\n",
    "    train, test_sets_by_day[training_start_date] = training_and_testing_data(occupancy, training_start_date)\n",
    "\n",
    "    models_by_day[training_start_date].train(train)"
   ]
  },
  {
   "cell_type": "markdown",
   "metadata": {},
   "source": [
    "# Test"
   ]
  },
  {
   "cell_type": "code",
   "execution_count": 463,
   "metadata": {},
   "outputs": [],
   "source": [
    "test_timestamps = occupancy.loc[test_index_single_zone].semihour\n",
    "\n",
    "assert len(test_index_single_zone) == test_records_count\n",
    "\n",
    "test_semihour_onehots = semihour_onehots.loc[test_index_single_zone]\n",
    "test_dayofweek_onehots = dayofweek_onehots.loc[test_index_single_zone]"
   ]
  },
  {
   "cell_type": "code",
   "execution_count": 464,
   "metadata": {},
   "outputs": [],
   "source": [
    "import itertools\n",
    "\n",
    "from tqdm.notebook import tqdm"
   ]
  },
  {
   "cell_type": "code",
   "execution_count": 473,
   "metadata": {
    "scrolled": true
   },
   "outputs": [
    {
     "data": {
      "application/vnd.jupyter.widget-view+json": {
       "model_id": "a6869282db6148a0b247c0ff52d8703b",
       "version_major": 2,
       "version_minor": 0
      },
      "text/plain": [
       "HBox(children=(FloatProgress(value=0.0, max=10080.0), HTML(value='')))"
      ]
     },
     "metadata": {},
     "output_type": "display_data"
    },
    {
     "name": "stdout",
     "output_type": "stream",
     "text": [
      "\n"
     ]
    }
   ],
   "source": [
    "test_results = pd.Series(\n",
    "    index=pd.MultiIndex.from_product([\n",
    "        test_timestamps,\n",
    "        test_zones\n",
    "    ]),\n",
    "    name='prediction',\n",
    "    dtype='float64'\n",
    ")\n",
    "\n",
    "for zone_id, (timestamp, semihour_onehot, dayofweek_onehot) in tqdm(\n",
    "    itertools.product(\n",
    "        test_zones,\n",
    "        zip(\n",
    "            test_timestamps,\n",
    "            test_semihour_onehots.itertuples(index=False),\n",
    "            test_dayofweek_onehots.itertuples(index=False)\n",
    "        )\n",
    "    ),\n",
    "    total=len(test_timestamps) * len(test_zones)\n",
    "):\n",
    "    test_results.loc[(timestamp, zone_id)] = model.predict(\n",
    "        [\n",
    "            ModelFeatures(\n",
    "                zone_id=zone_id,\n",
    "                semihour_onehot=semihour_onehot,\n",
    "                dayofweek_onehot=dayofweek_onehot\n",
    "            )\n",
    "        ]\n",
    "    )[zone_id]"
   ]
  },
  {
   "cell_type": "code",
   "execution_count": 467,
   "metadata": {},
   "outputs": [],
   "source": [
    "test_actual = occupancy.loc[\n",
    "    occupancy.semihour.isin(test_timestamps) &\n",
    "    occupancy.zone_id.isin(test_zones),\n",
    "    ['semihour', 'zone_id', 'occu_cnt_rate']\n",
    "].set_index(['semihour', 'zone_id']).occu_cnt_rate.sort_index()"
   ]
  },
  {
   "cell_type": "code",
   "execution_count": 468,
   "metadata": {},
   "outputs": [
    {
     "data": {
      "image/png": "[encoded data removed]",
      "text/plain": [
       "<Figure size 432x288 with 1 Axes>"
      ]
     },
     "metadata": {
      "needs_background": "light"
     },
     "output_type": "display_data"
    }
   ],
   "source": [
    "test_residuals = test_actual - test_results[test_actual.index]\n",
    "test_residuals.hist(bins=100).set_title('Prediction Residuals');"
   ]
  },
  {
   "cell_type": "code",
   "execution_count": 469,
   "metadata": {},
   "outputs": [
    {
     "data": {
      "image/png": "[encoded data removed]",
      "text/plain": [
       "<Figure size 432x288 with 1 Axes>"
      ]
     },
     "metadata": {
      "needs_background": "light"
     },
     "output_type": "display_data"
    }
   ],
   "source": [
    "test_residuals.abs().hist(bins=100).set_title('Absolute Error');"
   ]
  },
  {
   "cell_type": "code",
   "execution_count": 529,
   "metadata": {
    "scrolled": false
   },
   "outputs": [
    {
     "data": {
      "text/plain": [
       "Text(0.5, 1.06, 'Distribution of Zone Availability Residuals $\\\\hat{y}_z - y_z$\\nfor Monday, 2019-11-25')"
      ]
     },
     "execution_count": 529,
     "metadata": {},
     "output_type": "execute_result"
    },
    {
     "data": {
      "image/png": "[encoded data removed]",
      "text/plain": [
       "<Figure size 1440x1440 with 30 Axes>"
      ]
     },
     "metadata": {
      "needs_background": "light"
     },
     "output_type": "display_data"
    }
   ],
   "source": [
    "import matplotlib.pyplot as plt\n",
    "\n",
    "fig, axes = plt.subplots(5, 6, figsize=(20, 20))\n",
    "\n",
    "for index, (semihour, group) in enumerate(test_residuals.groupby('semihour')):\n",
    "    ax = axes[index // 6][index % 6]\n",
    "    group.hist(ax=ax, bins=21).set_title(str(semihour.time())[:-3])\n",
    "\n",
    "for remaining_ax_idx in range(index + 1, 30):\n",
    "    axes[remaining_ax_idx // 6][remaining_ax_idx % 6].axis('off')\n",
    "\n",
    "fig.tight_layout()\n",
    "fig.suptitle(f'Distribution of Zone Availability Residuals $y_z - \\hat{{y}}_z$\\nfor {semihour.day_name()}, {semihour.date()}', x=0.5, y=1.06, fontsize=30)"
   ]
  },
  {
   "cell_type": "markdown",
   "metadata": {},
   "source": [
    "# Performance Measures\n",
    "## MAE"
   ]
  },
  {
   "cell_type": "code",
   "execution_count": 530,
   "metadata": {},
   "outputs": [
    {
     "data": {
      "image/png": "[encoded data removed]",
      "text/plain": [
       "<Figure size 432x288 with 1 Axes>"
      ]
     },
     "metadata": {
      "needs_background": "light"
     },
     "output_type": "display_data"
    }
   ],
   "source": [
    "test_residuals[test_actual.index].unstack().abs().mean(axis='index').hist().set_title('Zone MAEs');"
   ]
  },
  {
   "cell_type": "code",
   "execution_count": 498,
   "metadata": {},
   "outputs": [
    {
     "name": "stdout",
     "output_type": "stream",
     "text": [
      "Overall MAE: 0.5757004966948226\n"
     ]
    },
    {
     "data": {
      "text/plain": [
       "zone_id\n",
       "17012    0.639983\n",
       "17013    0.569390\n",
       "17014    0.749552\n",
       "17015    0.709666\n",
       "17016    0.326592\n",
       "           ...   \n",
       "72056    0.262928\n",
       "72057    0.612856\n",
       "72058    0.645895\n",
       "72059    0.463969\n",
       "72060    0.430194\n",
       "Length: 343, dtype: float64"
      ]
     },
     "execution_count": 498,
     "metadata": {},
     "output_type": "execute_result"
    }
   ],
   "source": [
    "print('Overall MAE:', test_residuals[test_actual.index].abs().mean())\n",
    "test_residuals[test_actual.index].unstack().abs().mean(axis='index')"
   ]
  }
 ],
 "metadata": {
  "kernelspec": {
   "display_name": "Python 3",
   "language": "python",
   "name": "python3"
  },
  "language_info": {
   "codemirror_mode": {
    "name": "ipython",
    "version": 3
   },
   "file_extension": ".py",
   "mimetype": "text/x-python",
   "name": "python",
   "nbconvert_exporter": "python",
   "pygments_lexer": "ipython3",
   "version": "3.8.1"
  },
  "toc": {
   "base_numbering": 1,
   "nav_menu": {},
   "number_sections": true,
   "sideBar": true,
   "skip_h1_title": false,
   "title_cell": "Table of Contents",
   "title_sidebar": "Contents",
   "toc_cell": false,
   "toc_position": {
    "height": "calc(100% - 180px)",
    "left": "10px",
    "top": "150px",
    "width": "384px"
   },
   "toc_section_display": true,
   "toc_window_display": true
  }
 },
 "nbformat": 4,
 "nbformat_minor": 4
}
