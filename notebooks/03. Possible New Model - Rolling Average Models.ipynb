{
 "cells": [
  {
   "cell_type": "markdown",
   "metadata": {},
   "source": [
    "# Preparing the Environment"
   ]
  },
  {
   "cell_type": "code",
   "execution_count": 1,
   "metadata": {},
   "outputs": [],
   "source": [
    "import datetime as dt\n",
    "import itertools\n",
    "import os\n",
    "import pickle\n",
    "from dataclasses import dataclass\n",
    "from pathlib import Path\n",
    "\n",
    "import colorcet as cc\n",
    "import geopandas as gpd\n",
    "import git\n",
    "import matplotlib.pyplot as plt\n",
    "import networkx as nx\n",
    "import numpy as np\n",
    "import osmnx as ox\n",
    "import pandas as pd\n",
    "import pyodbc\n",
    "import requests\n",
    "import seaborn as sns; sns.set_theme(style='white')\n",
    "import shapely\n",
    "from fbprophet import Prophet\n",
    "from fbprophet.diagnostics import cross_validation\n",
    "from sktime.forecasting.model_selection import temporal_train_test_split\n",
    "from sqlalchemy import create_engine\n",
    "from tqdm.notebook import tqdm"
   ]
  },
  {
   "cell_type": "markdown",
   "metadata": {},
   "source": [
    "## Setting paths and loading `app` dependencies"
   ]
  },
  {
   "cell_type": "code",
   "execution_count": 3,
   "metadata": {},
   "outputs": [],
   "source": [
    "REPO_ROOT = Path(git.Repo('.', search_parent_directories=True).working_tree_dir).absolute()\n",
    "DATA_RAW_PATH = REPO_ROOT / 'data' / 'raw'\n",
    "OCCUPANCY_FEATHER_PATH = DATA_RAW_PATH / 'parking_zone_occupancy_aggr.feather'\n",
    "MODELS_CACHE = REPO_ROOT / '.cache'\n",
    "\n",
    "OCCUPANCY_FEATHER_PATH.parent.mkdir(exist_ok=True)\n",
    "MODELS_CACHE.mkdir(exist_ok=True)\n",
    "\n",
    "%cd -q $REPO_ROOT\n",
    "\n",
    "import app.keeper_of_the_state\n",
    "from app.constants import DAY_OF_WEEK\n",
    "from app.constants import UNENFORCED_DAYS\n",
    "from app.data_formats import APIPredictionRequest"
   ]
  },
  {
   "cell_type": "code",
   "execution_count": 4,
   "metadata": {},
   "outputs": [
    {
     "name": "stderr",
     "output_type": "stream",
     "text": [
      "/Users/daniel.r.moore/Library/Caches/pypoetry/virtualenvs/predictive-parking-J8Xdfjko-py3.8/lib/python3.8/site-packages/IPython/core/interactiveshell.py:3417: UserWarning: Discarding nonzero nanoseconds in conversion\n",
      "  exec(code_obj, self.user_global_ns, self.user_ns)\n"
     ]
    }
   ],
   "source": [
    "def load_occupancy_dataset(remove_inactive_timeslots=True):\n",
    "    if OCCUPANCY_FEATHER_PATH.exists():\n",
    "        occupancy = pd.read_feather(OCCUPANCY_FEATHER_PATH)\n",
    "    else:\n",
    "        occupancy = pd.read_sql_query(\n",
    "            r'''\n",
    "                SELECT *\n",
    "                FROM [dbo].[parking_zone_occupancy_aggr]\n",
    "                ORDER BY zone_name, semihour\n",
    "            ''',\n",
    "            'mssql+pyodbc://{user}:{password}@{server_url}:{server_port}/{database}?driver={driver}'.format(\n",
    "                user='padmin',\n",
    "                password=os.getenv('SQL_SERVER_PASSWORD'),\n",
    "                server_url='dev-data-science-parking-prediction.crrvm15jali6.us-west-2.rds.amazonaws.com',\n",
    "                server_port='1433',\n",
    "                database='parking_prediction',\n",
    "                driver='ODBC+Driver+17+for+SQL+Server'\n",
    "            )\n",
    "        )\n",
    "        occupancy.to_feather(OCCUPANCY_FEATHER_PATH)\n",
    "\n",
    "    return (occupancy.rename(columns={'zone_name': 'zone_id'})\n",
    "                     .pipe(remove_unoccupied_timeslots if remove_inactive_timeslots else lambda df: df)\n",
    "                     .pipe(remove_times_outside_hours_of_operation)\n",
    "                     .pipe(derive_features))\n",
    "\n",
    "\n",
    "def remove_unoccupied_timeslots(occupancy_dataframe: pd.DataFrame) -> pd.DataFrame:\n",
    "    return occupancy_dataframe.loc[(\n",
    "        (occupancy_dataframe.no_data != 1)\n",
    "      & (occupancy_dataframe.no_trxn_one_week_flg != 1)\n",
    "    )]\n",
    "\n",
    "\n",
    "def remove_times_outside_hours_of_operation(occupancy_dataframe: pd.DataFrame) -> pd.DataFrame:\n",
    "    enforcement_days = [day.value for day in DAY_OF_WEEK\n",
    "                        if day not in UNENFORCED_DAYS]\n",
    "    return (\n",
    "        occupancy_dataframe\n",
    "            .set_index('semihour')\n",
    "            .between_time('08:00', '22:00', include_end=False)\n",
    "            .reset_index()\n",
    "            .loc[lambda df: df.semihour.dt.dayofweek.isin(enforcement_days), :]\n",
    "    )\n",
    "\n",
    "\n",
    "def derive_features(occupancy_dataframe: pd.DataFrame) -> pd.DataFrame:\n",
    "    return occupancy_dataframe.assign(\n",
    "        available_rate=lambda df: 1 - df.occu_cnt_rate,\n",
    "        dayofweek=lambda df: df.semihour.dt.dayofweek.astype('category'),\n",
    "        semihour_tuples=lambda df: pd.Series(\n",
    "            zip(df.semihour.dt.hour, df.semihour.dt.minute),\n",
    "            dtype='category', index=df.index\n",
    "        )\n",
    "    )\n",
    "\n",
    "\n",
    "occupancy = load_occupancy_dataset()\n",
    "\n",
    "TRAINING_WEEKS = 53\n",
    "\n",
    "\n",
    "def training_end_offset(number_of_weeks=TRAINING_WEEKS, with_hours=True):\n",
    "    offset_arguments = {'days': 7 * number_of_weeks - 1}\n",
    "    if with_hours:\n",
    "        offset_arguments['hours'] = 22\n",
    "    return pd.DateOffset(**offset_arguments)\n",
    "\n",
    "\n",
    "def training_bounds(start_date, number_of_weeks=TRAINING_WEEKS):\n",
    "    start_date = pd.Timestamp(start_date).normalize()\n",
    "    start_timestamp = start_date + pd.DateOffset(hours=8)\n",
    "    end_timestamp = start_date + training_end_offset(number_of_weeks) - pd.Timedelta('1 nanosecond')\n",
    "    return start_timestamp, end_timestamp\n",
    "\n",
    "\n",
    "def testing_bounds(training_start_date, training_weeks=TRAINING_WEEKS):\n",
    "    training_end_date = training_bounds(training_start_date, number_of_weeks=training_weeks)[1]\n",
    "    testing_end_date = training_end_date + pd.Timedelta(days=1)\n",
    "    testing_start_date = testing_end_date.normalize() + pd.DateOffset(hours=8)\n",
    "    return testing_start_date, testing_end_date\n",
    "\n",
    "\n",
    "example_first_day = '2018-09-17'\n",
    "example_first_day_ts = pd.Timestamp(example_first_day)\n",
    "\n",
    "example_train_start, example_train_end = training_bounds(example_first_day)\n",
    "example_test_start, example_test_end = testing_bounds(example_first_day)\n",
    "\n",
    "assert example_first_day_ts.normalize() == example_train_start.normalize()\n",
    "assert (example_train_end - example_train_start).days == 7 * TRAINING_WEEKS - 1\n",
    "assert example_train_start.day_name() == (example_train_end + pd.DateOffset(days=1)).day_name()\n",
    "assert example_test_start.normalize() == example_train_end.normalize() + pd.DateOffset(days=1)\n",
    "assert example_test_start.normalize() == example_test_end.normalize()\n",
    "\n",
    "\n",
    "TRAINING_START_DATES = [f'2018-09-{day:0>2}' for day in range(17, 23)]\n",
    "\n",
    "EARLIEST_TRAINING_DATETIME = training_bounds(TRAINING_START_DATES[0])[0]\n",
    "LATEST_TESTING_DATETIME = testing_bounds(TRAINING_START_DATES[-1])[1]\n",
    "\n",
    "\n",
    "def zones_spanning_period(df, start_date, end_date, zone_column='zone_id', timestamp_column='semihour',\n",
    "                          eps=pd.Timedelta(minutes=30)):\n",
    "    '''\n",
    "    Returns all zones in `df` with records from `start_date` to `end_date`\n",
    "    (inclusive).\n",
    "    \n",
    "    Zones are admitted if they are associated with records within `eps` of both\n",
    "    bounds (exclusive).\n",
    "    '''\n",
    "    zone_is_admissible = (\n",
    "        (df.groupby(zone_column)[timestamp_column].min() - start_date < eps) &\n",
    "        (end_date - df.groupby(zone_column)[timestamp_column].max() < eps)\n",
    "    )\n",
    "    return zone_is_admissible[zone_is_admissible].index\n",
    "\n",
    "\n",
    "def training_and_testing_data(\n",
    "        df, training_start_date,\n",
    "        timestamp_column='semihour', zone_column='zone_id',\n",
    "        number_of_weeks=TRAINING_WEEKS\n",
    "    ):\n",
    "    training_start, training_end = training_bounds(training_start_date, number_of_weeks=number_of_weeks)\n",
    "    testing_start, testing_end = testing_bounds(training_start_date, training_weeks=number_of_weeks)\n",
    "\n",
    "    train_data = df[df[timestamp_column].between(training_start, training_end)]\n",
    "    test_data = df[df[timestamp_column].between(testing_start, testing_end)]\n",
    "\n",
    "    zones_under_test = zones_spanning_period(\n",
    "        df, training_start, testing_end,\n",
    "        timestamp_column=timestamp_column, zone_column=zone_column\n",
    "    )\n",
    "\n",
    "    return (\n",
    "        train_data[train_data[zone_column].isin(zones_under_test)],\n",
    "        test_data[test_data[zone_column].isin(zones_under_test)]\n",
    "    )\n",
    "\n",
    "\n",
    "example_train, example_test = training_and_testing_data(occupancy, example_first_day)\n",
    "\n",
    "assert example_train.semihour.min() == example_train_start\n",
    "assert (\n",
    "    example_train_end - example_train.semihour.max() <= pd.Timedelta(minutes=30)\n",
    "    or (\n",
    "        example_train_end - example_train.semihour.max() <= pd.Timedelta(days=1, minutes=30)\n",
    "        and example_train_start.day_name() == 'Monday'\n",
    "    )\n",
    ")\n",
    "\n",
    "assert example_test.semihour.min() == example_test_start\n",
    "assert example_test_end - example_test.semihour.max() < pd.Timedelta(minutes=30)"
   ]
  },
  {
   "cell_type": "markdown",
   "metadata": {},
   "source": [
    "# Moving Averages"
   ]
  },
  {
   "cell_type": "markdown",
   "metadata": {},
   "source": [
    "- Semihour\n",
    "  - Last 7 Days\n",
    "  - Last 1 DOW\n",
    "  - Last 4 DOWs\n",
    "  - Last 12 DOWs\n",
    "  - Last 24 DOWs"
   ]
  },
  {
   "cell_type": "code",
   "execution_count": null,
   "metadata": {},
   "outputs": [],
   "source": [
    "sns.lineplot(\n",
    "    data=occupancy,\n",
    "    x='semihour',\n",
    "    y='available_rate',\n",
    ")"
   ]
  },
  {
   "cell_type": "code",
   "execution_count": 57,
   "metadata": {},
   "outputs": [],
   "source": [
    "windows_in_weeks = [1, 2, 3, 4, 12, 24]"
   ]
  },
  {
   "cell_type": "code",
   "execution_count": 96,
   "metadata": {},
   "outputs": [
    {
     "data": {
      "application/vnd.jupyter.widget-view+json": {
       "model_id": "aac425d355d54e759da307646606c76d",
       "version_major": 2,
       "version_minor": 0
      },
      "text/plain": [
       "HBox(children=(HTML(value=''), FloatProgress(value=0.0, max=6.0), HTML(value='')))"
      ]
     },
     "metadata": {},
     "output_type": "display_data"
    },
    {
     "name": "stdout",
     "output_type": "stream",
     "text": [
      "\n"
     ]
    }
   ],
   "source": [
    "occupancy = occupancy.sort_values(['zone_id', 'dayofweek', 'semihour_tuples'])\n",
    "\n",
    "for weeks in tqdm(windows_in_weeks):\n",
    "    occupancy[f'available_rate_{weeks:0>2}w'] = occupancy.groupby(['zone_id', 'dayofweek', 'semihour_tuples']).available_rate.transform(\n",
    "        lambda group: group.shift().rolling(weeks, 1).mean()\n",
    "    )\n",
    "    occupancy[f'forecast_error_{weeks:0>2}w_rolling'] = occupancy['available_rate'] - occupancy[f'available_rate_{weeks:0>2}w']"
   ]
  },
  {
   "cell_type": "markdown",
   "metadata": {},
   "source": [
    "# Evaluation"
   ]
  },
  {
   "cell_type": "code",
   "execution_count": 59,
   "metadata": {},
   "outputs": [],
   "source": [
    "def parkcolumbus_colors(series, numeric_labels=False):\n",
    "    availability_boundaries = [0, .20, .50, 1]\n",
    "    dtyper = lambda series: series\n",
    "    if numeric_labels:\n",
    "        availability_labels = [0, 1, 2]\n",
    "        dtyper = lambda series: series.astype(int)\n",
    "    else:\n",
    "        availability_labels = ['Red', 'Yellow', 'Green']\n",
    "    return pd.cut(\n",
    "        series.clip(0, 1),\n",
    "        availability_boundaries,\n",
    "        include_lowest=True,\n",
    "        labels=availability_labels\n",
    "    ).pipe(dtyper)\n",
    "\n",
    "\n",
    "def trichotomy_series(series_left, series_right):\n",
    "    return series_left < series_right, series_left == series_right, series_left > series_right"
   ]
  },
  {
   "cell_type": "code",
   "execution_count": 97,
   "metadata": {},
   "outputs": [
    {
     "data": {
      "application/vnd.jupyter.widget-view+json": {
       "model_id": "64a5a00a61e549f48b5249a3d48ea2d8",
       "version_major": 2,
       "version_minor": 0
      },
      "text/plain": [
       "HBox(children=(HTML(value=''), FloatProgress(value=0.0, max=6.0), HTML(value='')))"
      ]
     },
     "metadata": {},
     "output_type": "display_data"
    },
    {
     "name": "stdout",
     "output_type": "stream",
     "text": [
      "\n"
     ]
    }
   ],
   "source": [
    "for weeks in tqdm(windows_in_weeks):\n",
    "    occupancy = occupancy.loc[\n",
    "        occupancy[f'available_rate_{weeks:0>2}w'].notna()\n",
    "    ]"
   ]
  },
  {
   "cell_type": "code",
   "execution_count": 98,
   "metadata": {},
   "outputs": [
    {
     "data": {
      "application/vnd.jupyter.widget-view+json": {
       "model_id": "f077424d40bc4742914d102d97d0d510",
       "version_major": 2,
       "version_minor": 0
      },
      "text/plain": [
       "HBox(children=(HTML(value=''), FloatProgress(value=0.0, max=6.0), HTML(value='')))"
      ]
     },
     "metadata": {},
     "output_type": "display_data"
    },
    {
     "name": "stdout",
     "output_type": "stream",
     "text": [
      "\n"
     ]
    }
   ],
   "source": [
    "occupancy[f'pc_ryg_bin_num_actual'] = parkcolumbus_colors(\n",
    "    occupancy[f'available_rate'],\n",
    "    numeric_labels=True\n",
    ")\n",
    "\n",
    "for weeks in tqdm(windows_in_weeks):\n",
    "    occupancy[f'pc_ryg_bin_num_{weeks:0>2}w_rolling'] = parkcolumbus_colors(\n",
    "        occupancy[f'available_rate_{weeks:0>2}w'],\n",
    "        numeric_labels=True\n",
    "    )"
   ]
  },
  {
   "cell_type": "code",
   "execution_count": 99,
   "metadata": {},
   "outputs": [
    {
     "data": {
      "application/vnd.jupyter.widget-view+json": {
       "model_id": "0db443f771104cd5ab381b7b27c47c40",
       "version_major": 2,
       "version_minor": 0
      },
      "text/plain": [
       "HBox(children=(HTML(value=''), FloatProgress(value=0.0, max=6.0), HTML(value='')))"
      ]
     },
     "metadata": {},
     "output_type": "display_data"
    },
    {
     "name": "stdout",
     "output_type": "stream",
     "text": [
      "\n"
     ]
    }
   ],
   "source": [
    "for weeks in tqdm(windows_in_weeks):\n",
    "    occupancy[f'color_forecast_error_{weeks:0>2}w_rolling'] = (\n",
    "        occupancy[f'pc_ryg_bin_num_actual'] - occupancy[f'pc_ryg_bin_num_{weeks:0>2}w_rolling']\n",
    "    )"
   ]
  },
  {
   "cell_type": "markdown",
   "metadata": {},
   "source": [
    "# ParkColumbus Color Errors\n",
    "Note:\n",
    "- 0 is ideal\n",
    "- -1 and 1 are better than -2 and 2 (resp.)\n",
    "- positive numbers (0, 1, and 2) are better than negative numbers (indicate a pessimistic forecast)"
   ]
  },
  {
   "cell_type": "code",
   "execution_count": 121,
   "metadata": {},
   "outputs": [],
   "source": [
    "def color_error_distribution(occupancy_df, record_filter=slice(None)):\n",
    "    return (\n",
    "        occupancy_df\n",
    "        .loc[\n",
    "            record_filter,\n",
    "            [f'color_forecast_error_{weeks:0>2}w_rolling' for weeks in windows_in_weeks]\n",
    "        ]\n",
    "        .melt()\n",
    "        .groupby(['variable', 'value'])\n",
    "        .size()\n",
    "        .rename('count')\n",
    "        .reset_index()\n",
    "        .assign(\n",
    "            proportion=lambda df:\n",
    "                df['count']\n",
    "                    / df.groupby('variable')['count'].transform(lambda s: s.sum())\n",
    "        )\n",
    "        .set_index(['variable', 'value'])\n",
    "        .proportion\n",
    "        .unstack()\n",
    "    )"
   ]
  },
  {
   "cell_type": "code",
   "execution_count": 128,
   "metadata": {},
   "outputs": [],
   "source": [
    "color_error_filters = {\n",
    "    '2018': lambda df: df.semihour.dt.year == 2018,\n",
    "    '2019': lambda df: df.semihour.dt.year == 2019,\n",
    "    '2020': lambda df: df.semihour.dt.year == 2020,\n",
    "    'pandemic': lambda df: df.semihour.dt.date >= dt.date(2020, 3, 17),\n",
    "    'pandemic_q4': lambda df: df.semihour.dt.date >= dt.date(2020, 9, 1)\n",
    "}"
   ]
  },
  {
   "cell_type": "code",
   "execution_count": 129,
   "metadata": {},
   "outputs": [],
   "source": [
    "color_error_tables = {\n",
    "    name: color_error_distribution(occupancy, record_filter)\n",
    "    for name, record_filter in color_error_filters.items()\n",
    "}"
   ]
  },
  {
   "cell_type": "code",
   "execution_count": 136,
   "metadata": {},
   "outputs": [
    {
     "data": {
      "text/plain": [
       "<AxesSubplot:xlabel='value', ylabel='variable'>"
      ]
     },
     "execution_count": 136,
     "metadata": {},
     "output_type": "execute_result"
    },
    {
     "data": {
      "image/png": "[encoded data removed]",
      "text/plain": [
       "<Figure size 432x288 with 2 Axes>"
      ]
     },
     "metadata": {},
     "output_type": "display_data"
    }
   ],
   "source": [
    "sns.heatmap(color_error_table)"
   ]
  },
  {
   "cell_type": "code",
   "execution_count": 137,
   "metadata": {
    "scrolled": false
   },
   "outputs": [
    {
     "name": "stdout",
     "output_type": "stream",
     "text": [
      "Rolling Average Performance in 2018:\n",
      "Raw Numbers:\n"
     ]
    },
    {
     "data": {
      "text/html": [
       "<div>\n",
       "<style scoped>\n",
       "    .dataframe tbody tr th:only-of-type {\n",
       "        vertical-align: middle;\n",
       "    }\n",
       "\n",
       "    .dataframe tbody tr th {\n",
       "        vertical-align: top;\n",
       "    }\n",
       "\n",
       "    .dataframe thead th {\n",
       "        text-align: right;\n",
       "    }\n",
       "</style>\n",
       "<table border=\"1\" class=\"dataframe\">\n",
       "  <thead>\n",
       "    <tr style=\"text-align: right;\">\n",
       "      <th>value</th>\n",
       "      <th>-2</th>\n",
       "      <th>-1</th>\n",
       "      <th>0</th>\n",
       "      <th>1</th>\n",
       "      <th>2</th>\n",
       "    </tr>\n",
       "    <tr>\n",
       "      <th>variable</th>\n",
       "      <th></th>\n",
       "      <th></th>\n",
       "      <th></th>\n",
       "      <th></th>\n",
       "      <th></th>\n",
       "    </tr>\n",
       "  </thead>\n",
       "  <tbody>\n",
       "    <tr>\n",
       "      <th>color_forecast_error_01w_rolling</th>\n",
       "      <td>0.042336</td>\n",
       "      <td>0.135754</td>\n",
       "      <td>0.640123</td>\n",
       "      <td>0.136753</td>\n",
       "      <td>0.045034</td>\n",
       "    </tr>\n",
       "    <tr>\n",
       "      <th>color_forecast_error_02w_rolling</th>\n",
       "      <td>0.030729</td>\n",
       "      <td>0.161271</td>\n",
       "      <td>0.633366</td>\n",
       "      <td>0.142515</td>\n",
       "      <td>0.032120</td>\n",
       "    </tr>\n",
       "    <tr>\n",
       "      <th>color_forecast_error_03w_rolling</th>\n",
       "      <td>0.032153</td>\n",
       "      <td>0.166268</td>\n",
       "      <td>0.637883</td>\n",
       "      <td>0.135988</td>\n",
       "      <td>0.027708</td>\n",
       "    </tr>\n",
       "    <tr>\n",
       "      <th>color_forecast_error_04w_rolling</th>\n",
       "      <td>0.029841</td>\n",
       "      <td>0.174883</td>\n",
       "      <td>0.632825</td>\n",
       "      <td>0.136925</td>\n",
       "      <td>0.025526</td>\n",
       "    </tr>\n",
       "    <tr>\n",
       "      <th>color_forecast_error_12w_rolling</th>\n",
       "      <td>0.030164</td>\n",
       "      <td>0.173776</td>\n",
       "      <td>0.637638</td>\n",
       "      <td>0.133633</td>\n",
       "      <td>0.024789</td>\n",
       "    </tr>\n",
       "    <tr>\n",
       "      <th>color_forecast_error_24w_rolling</th>\n",
       "      <td>0.030164</td>\n",
       "      <td>0.173776</td>\n",
       "      <td>0.637638</td>\n",
       "      <td>0.133633</td>\n",
       "      <td>0.024789</td>\n",
       "    </tr>\n",
       "  </tbody>\n",
       "</table>\n",
       "</div>"
      ],
      "text/plain": [
       "value                                   -2        -1         0         1  \\\n",
       "variable                                                                   \n",
       "color_forecast_error_01w_rolling  0.042336  0.135754  0.640123  0.136753   \n",
       "color_forecast_error_02w_rolling  0.030729  0.161271  0.633366  0.142515   \n",
       "color_forecast_error_03w_rolling  0.032153  0.166268  0.637883  0.135988   \n",
       "color_forecast_error_04w_rolling  0.029841  0.174883  0.632825  0.136925   \n",
       "color_forecast_error_12w_rolling  0.030164  0.173776  0.637638  0.133633   \n",
       "color_forecast_error_24w_rolling  0.030164  0.173776  0.637638  0.133633   \n",
       "\n",
       "value                                    2  \n",
       "variable                                    \n",
       "color_forecast_error_01w_rolling  0.045034  \n",
       "color_forecast_error_02w_rolling  0.032120  \n",
       "color_forecast_error_03w_rolling  0.027708  \n",
       "color_forecast_error_04w_rolling  0.025526  \n",
       "color_forecast_error_12w_rolling  0.024789  \n",
       "color_forecast_error_24w_rolling  0.024789  "
      ]
     },
     "metadata": {},
     "output_type": "display_data"
    },
    {
     "name": "stdout",
     "output_type": "stream",
     "text": [
      "Heatmap:\n"
     ]
    },
    {
     "data": {
      "image/png": "[encoded data removed]",
      "text/plain": [
       "<Figure size 432x288 with 2 Axes>"
      ]
     },
     "metadata": {},
     "output_type": "display_data"
    },
    {
     "name": "stdout",
     "output_type": "stream",
     "text": [
      "Pessimism Rates:\n"
     ]
    },
    {
     "data": {
      "text/plain": [
       "variable\n",
       "color_forecast_error_01w_rolling    0.776876\n",
       "color_forecast_error_02w_rolling    0.775881\n",
       "color_forecast_error_03w_rolling    0.773871\n",
       "color_forecast_error_04w_rolling    0.769750\n",
       "color_forecast_error_12w_rolling    0.771271\n",
       "color_forecast_error_24w_rolling    0.771271\n",
       "dtype: float64"
      ]
     },
     "metadata": {},
     "output_type": "display_data"
    },
    {
     "name": "stdout",
     "output_type": "stream",
     "text": [
      "\n",
      "Rolling Average Performance in 2019:\n",
      "Raw Numbers:\n"
     ]
    },
    {
     "data": {
      "text/html": [
       "<div>\n",
       "<style scoped>\n",
       "    .dataframe tbody tr th:only-of-type {\n",
       "        vertical-align: middle;\n",
       "    }\n",
       "\n",
       "    .dataframe tbody tr th {\n",
       "        vertical-align: top;\n",
       "    }\n",
       "\n",
       "    .dataframe thead th {\n",
       "        text-align: right;\n",
       "    }\n",
       "</style>\n",
       "<table border=\"1\" class=\"dataframe\">\n",
       "  <thead>\n",
       "    <tr style=\"text-align: right;\">\n",
       "      <th>value</th>\n",
       "      <th>-2</th>\n",
       "      <th>-1</th>\n",
       "      <th>0</th>\n",
       "      <th>1</th>\n",
       "      <th>2</th>\n",
       "    </tr>\n",
       "    <tr>\n",
       "      <th>variable</th>\n",
       "      <th></th>\n",
       "      <th></th>\n",
       "      <th></th>\n",
       "      <th></th>\n",
       "      <th></th>\n",
       "    </tr>\n",
       "  </thead>\n",
       "  <tbody>\n",
       "    <tr>\n",
       "      <th>color_forecast_error_01w_rolling</th>\n",
       "      <td>0.048045</td>\n",
       "      <td>0.133845</td>\n",
       "      <td>0.639875</td>\n",
       "      <td>0.129887</td>\n",
       "      <td>0.048348</td>\n",
       "    </tr>\n",
       "    <tr>\n",
       "      <th>color_forecast_error_02w_rolling</th>\n",
       "      <td>0.035775</td>\n",
       "      <td>0.168385</td>\n",
       "      <td>0.628020</td>\n",
       "      <td>0.134672</td>\n",
       "      <td>0.033148</td>\n",
       "    </tr>\n",
       "    <tr>\n",
       "      <th>color_forecast_error_03w_rolling</th>\n",
       "      <td>0.036160</td>\n",
       "      <td>0.176233</td>\n",
       "      <td>0.632262</td>\n",
       "      <td>0.127364</td>\n",
       "      <td>0.027981</td>\n",
       "    </tr>\n",
       "    <tr>\n",
       "      <th>color_forecast_error_04w_rolling</th>\n",
       "      <td>0.030747</td>\n",
       "      <td>0.192709</td>\n",
       "      <td>0.623398</td>\n",
       "      <td>0.128236</td>\n",
       "      <td>0.024911</td>\n",
       "    </tr>\n",
       "    <tr>\n",
       "      <th>color_forecast_error_12w_rolling</th>\n",
       "      <td>0.028892</td>\n",
       "      <td>0.196139</td>\n",
       "      <td>0.630540</td>\n",
       "      <td>0.121779</td>\n",
       "      <td>0.022651</td>\n",
       "    </tr>\n",
       "    <tr>\n",
       "      <th>color_forecast_error_24w_rolling</th>\n",
       "      <td>0.029277</td>\n",
       "      <td>0.200719</td>\n",
       "      <td>0.625881</td>\n",
       "      <td>0.122450</td>\n",
       "      <td>0.021672</td>\n",
       "    </tr>\n",
       "  </tbody>\n",
       "</table>\n",
       "</div>"
      ],
      "text/plain": [
       "value                                   -2        -1         0         1  \\\n",
       "variable                                                                   \n",
       "color_forecast_error_01w_rolling  0.048045  0.133845  0.639875  0.129887   \n",
       "color_forecast_error_02w_rolling  0.035775  0.168385  0.628020  0.134672   \n",
       "color_forecast_error_03w_rolling  0.036160  0.176233  0.632262  0.127364   \n",
       "color_forecast_error_04w_rolling  0.030747  0.192709  0.623398  0.128236   \n",
       "color_forecast_error_12w_rolling  0.028892  0.196139  0.630540  0.121779   \n",
       "color_forecast_error_24w_rolling  0.029277  0.200719  0.625881  0.122450   \n",
       "\n",
       "value                                    2  \n",
       "variable                                    \n",
       "color_forecast_error_01w_rolling  0.048348  \n",
       "color_forecast_error_02w_rolling  0.033148  \n",
       "color_forecast_error_03w_rolling  0.027981  \n",
       "color_forecast_error_04w_rolling  0.024911  \n",
       "color_forecast_error_12w_rolling  0.022651  \n",
       "color_forecast_error_24w_rolling  0.021672  "
      ]
     },
     "metadata": {},
     "output_type": "display_data"
    },
    {
     "name": "stdout",
     "output_type": "stream",
     "text": [
      "Heatmap:\n"
     ]
    },
    {
     "data": {
      "image/png": "[encoded data removed]",
      "text/plain": [
       "<Figure size 432x288 with 2 Axes>"
      ]
     },
     "metadata": {},
     "output_type": "display_data"
    },
    {
     "name": "stdout",
     "output_type": "stream",
     "text": [
      "Pessimism Rates:\n"
     ]
    },
    {
     "data": {
      "text/plain": [
       "variable\n",
       "color_forecast_error_01w_rolling    0.769762\n",
       "color_forecast_error_02w_rolling    0.762692\n",
       "color_forecast_error_03w_rolling    0.759626\n",
       "color_forecast_error_04w_rolling    0.751634\n",
       "color_forecast_error_12w_rolling    0.752319\n",
       "color_forecast_error_24w_rolling    0.748332\n",
       "dtype: float64"
      ]
     },
     "metadata": {},
     "output_type": "display_data"
    },
    {
     "name": "stdout",
     "output_type": "stream",
     "text": [
      "\n",
      "Rolling Average Performance in 2020:\n",
      "Raw Numbers:\n"
     ]
    },
    {
     "data": {
      "text/html": [
       "<div>\n",
       "<style scoped>\n",
       "    .dataframe tbody tr th:only-of-type {\n",
       "        vertical-align: middle;\n",
       "    }\n",
       "\n",
       "    .dataframe tbody tr th {\n",
       "        vertical-align: top;\n",
       "    }\n",
       "\n",
       "    .dataframe thead th {\n",
       "        text-align: right;\n",
       "    }\n",
       "</style>\n",
       "<table border=\"1\" class=\"dataframe\">\n",
       "  <thead>\n",
       "    <tr style=\"text-align: right;\">\n",
       "      <th>value</th>\n",
       "      <th>-2</th>\n",
       "      <th>-1</th>\n",
       "      <th>0</th>\n",
       "      <th>1</th>\n",
       "      <th>2</th>\n",
       "    </tr>\n",
       "    <tr>\n",
       "      <th>variable</th>\n",
       "      <th></th>\n",
       "      <th></th>\n",
       "      <th></th>\n",
       "      <th></th>\n",
       "      <th></th>\n",
       "    </tr>\n",
       "  </thead>\n",
       "  <tbody>\n",
       "    <tr>\n",
       "      <th>color_forecast_error_01w_rolling</th>\n",
       "      <td>0.038871</td>\n",
       "      <td>0.110473</td>\n",
       "      <td>0.698406</td>\n",
       "      <td>0.110184</td>\n",
       "      <td>0.042066</td>\n",
       "    </tr>\n",
       "    <tr>\n",
       "      <th>color_forecast_error_02w_rolling</th>\n",
       "      <td>0.032834</td>\n",
       "      <td>0.137507</td>\n",
       "      <td>0.687563</td>\n",
       "      <td>0.113639</td>\n",
       "      <td>0.028456</td>\n",
       "    </tr>\n",
       "    <tr>\n",
       "      <th>color_forecast_error_03w_rolling</th>\n",
       "      <td>0.036332</td>\n",
       "      <td>0.146916</td>\n",
       "      <td>0.688749</td>\n",
       "      <td>0.103195</td>\n",
       "      <td>0.024809</td>\n",
       "    </tr>\n",
       "    <tr>\n",
       "      <th>color_forecast_error_04w_rolling</th>\n",
       "      <td>0.033997</td>\n",
       "      <td>0.160819</td>\n",
       "      <td>0.673744</td>\n",
       "      <td>0.108417</td>\n",
       "      <td>0.023024</td>\n",
       "    </tr>\n",
       "    <tr>\n",
       "      <th>color_forecast_error_12w_rolling</th>\n",
       "      <td>0.046419</td>\n",
       "      <td>0.165823</td>\n",
       "      <td>0.626645</td>\n",
       "      <td>0.134079</td>\n",
       "      <td>0.027034</td>\n",
       "    </tr>\n",
       "    <tr>\n",
       "      <th>color_forecast_error_24w_rolling</th>\n",
       "      <td>0.033562</td>\n",
       "      <td>0.155213</td>\n",
       "      <td>0.581105</td>\n",
       "      <td>0.193988</td>\n",
       "      <td>0.036132</td>\n",
       "    </tr>\n",
       "  </tbody>\n",
       "</table>\n",
       "</div>"
      ],
      "text/plain": [
       "value                                   -2        -1         0         1  \\\n",
       "variable                                                                   \n",
       "color_forecast_error_01w_rolling  0.038871  0.110473  0.698406  0.110184   \n",
       "color_forecast_error_02w_rolling  0.032834  0.137507  0.687563  0.113639   \n",
       "color_forecast_error_03w_rolling  0.036332  0.146916  0.688749  0.103195   \n",
       "color_forecast_error_04w_rolling  0.033997  0.160819  0.673744  0.108417   \n",
       "color_forecast_error_12w_rolling  0.046419  0.165823  0.626645  0.134079   \n",
       "color_forecast_error_24w_rolling  0.033562  0.155213  0.581105  0.193988   \n",
       "\n",
       "value                                    2  \n",
       "variable                                    \n",
       "color_forecast_error_01w_rolling  0.042066  \n",
       "color_forecast_error_02w_rolling  0.028456  \n",
       "color_forecast_error_03w_rolling  0.024809  \n",
       "color_forecast_error_04w_rolling  0.023024  \n",
       "color_forecast_error_12w_rolling  0.027034  \n",
       "color_forecast_error_24w_rolling  0.036132  "
      ]
     },
     "metadata": {},
     "output_type": "display_data"
    },
    {
     "name": "stdout",
     "output_type": "stream",
     "text": [
      "Heatmap:\n"
     ]
    },
    {
     "data": {
      "image/png": "[encoded data removed]",
      "text/plain": [
       "<Figure size 432x288 with 2 Axes>"
      ]
     },
     "metadata": {},
     "output_type": "display_data"
    },
    {
     "name": "stdout",
     "output_type": "stream",
     "text": [
      "Pessimism Rates:\n"
     ]
    },
    {
     "data": {
      "text/plain": [
       "variable\n",
       "color_forecast_error_01w_rolling    0.808590\n",
       "color_forecast_error_02w_rolling    0.801202\n",
       "color_forecast_error_03w_rolling    0.791944\n",
       "color_forecast_error_04w_rolling    0.782161\n",
       "color_forecast_error_12w_rolling    0.760724\n",
       "color_forecast_error_24w_rolling    0.775093\n",
       "dtype: float64"
      ]
     },
     "metadata": {},
     "output_type": "display_data"
    },
    {
     "name": "stdout",
     "output_type": "stream",
     "text": [
      "\n",
      "Rolling Average Performance in Pandemic:\n",
      "Raw Numbers:\n"
     ]
    },
    {
     "data": {
      "text/html": [
       "<div>\n",
       "<style scoped>\n",
       "    .dataframe tbody tr th:only-of-type {\n",
       "        vertical-align: middle;\n",
       "    }\n",
       "\n",
       "    .dataframe tbody tr th {\n",
       "        vertical-align: top;\n",
       "    }\n",
       "\n",
       "    .dataframe thead th {\n",
       "        text-align: right;\n",
       "    }\n",
       "</style>\n",
       "<table border=\"1\" class=\"dataframe\">\n",
       "  <thead>\n",
       "    <tr style=\"text-align: right;\">\n",
       "      <th>value</th>\n",
       "      <th>-2</th>\n",
       "      <th>-1</th>\n",
       "      <th>0</th>\n",
       "      <th>1</th>\n",
       "      <th>2</th>\n",
       "    </tr>\n",
       "    <tr>\n",
       "      <th>variable</th>\n",
       "      <th></th>\n",
       "      <th></th>\n",
       "      <th></th>\n",
       "      <th></th>\n",
       "      <th></th>\n",
       "    </tr>\n",
       "  </thead>\n",
       "  <tbody>\n",
       "    <tr>\n",
       "      <th>color_forecast_error_01w_rolling</th>\n",
       "      <td>0.031164</td>\n",
       "      <td>0.098925</td>\n",
       "      <td>0.732037</td>\n",
       "      <td>0.100943</td>\n",
       "      <td>0.036931</td>\n",
       "    </tr>\n",
       "    <tr>\n",
       "      <th>color_forecast_error_02w_rolling</th>\n",
       "      <td>0.028302</td>\n",
       "      <td>0.117961</td>\n",
       "      <td>0.723670</td>\n",
       "      <td>0.105970</td>\n",
       "      <td>0.024097</td>\n",
       "    </tr>\n",
       "    <tr>\n",
       "      <th>color_forecast_error_03w_rolling</th>\n",
       "      <td>0.034909</td>\n",
       "      <td>0.122474</td>\n",
       "      <td>0.725077</td>\n",
       "      <td>0.095680</td>\n",
       "      <td>0.021859</td>\n",
       "    </tr>\n",
       "    <tr>\n",
       "      <th>color_forecast_error_04w_rolling</th>\n",
       "      <td>0.035154</td>\n",
       "      <td>0.130831</td>\n",
       "      <td>0.708864</td>\n",
       "      <td>0.103680</td>\n",
       "      <td>0.021471</td>\n",
       "    </tr>\n",
       "    <tr>\n",
       "      <th>color_forecast_error_12w_rolling</th>\n",
       "      <td>0.055593</td>\n",
       "      <td>0.143032</td>\n",
       "      <td>0.626519</td>\n",
       "      <td>0.145500</td>\n",
       "      <td>0.029357</td>\n",
       "    </tr>\n",
       "    <tr>\n",
       "      <th>color_forecast_error_24w_rolling</th>\n",
       "      <td>0.036953</td>\n",
       "      <td>0.135657</td>\n",
       "      <td>0.555692</td>\n",
       "      <td>0.228675</td>\n",
       "      <td>0.043023</td>\n",
       "    </tr>\n",
       "  </tbody>\n",
       "</table>\n",
       "</div>"
      ],
      "text/plain": [
       "value                                   -2        -1         0         1  \\\n",
       "variable                                                                   \n",
       "color_forecast_error_01w_rolling  0.031164  0.098925  0.732037  0.100943   \n",
       "color_forecast_error_02w_rolling  0.028302  0.117961  0.723670  0.105970   \n",
       "color_forecast_error_03w_rolling  0.034909  0.122474  0.725077  0.095680   \n",
       "color_forecast_error_04w_rolling  0.035154  0.130831  0.708864  0.103680   \n",
       "color_forecast_error_12w_rolling  0.055593  0.143032  0.626519  0.145500   \n",
       "color_forecast_error_24w_rolling  0.036953  0.135657  0.555692  0.228675   \n",
       "\n",
       "value                                    2  \n",
       "variable                                    \n",
       "color_forecast_error_01w_rolling  0.036931  \n",
       "color_forecast_error_02w_rolling  0.024097  \n",
       "color_forecast_error_03w_rolling  0.021859  \n",
       "color_forecast_error_04w_rolling  0.021471  \n",
       "color_forecast_error_12w_rolling  0.029357  \n",
       "color_forecast_error_24w_rolling  0.043023  "
      ]
     },
     "metadata": {},
     "output_type": "display_data"
    },
    {
     "name": "stdout",
     "output_type": "stream",
     "text": [
      "Heatmap:\n"
     ]
    },
    {
     "data": {
      "image/png": "[encoded data removed]",
      "text/plain": [
       "<Figure size 432x288 with 2 Axes>"
      ]
     },
     "metadata": {},
     "output_type": "display_data"
    },
    {
     "name": "stdout",
     "output_type": "stream",
     "text": [
      "Pessimism Rates:\n"
     ]
    },
    {
     "data": {
      "text/plain": [
       "variable\n",
       "color_forecast_error_01w_rolling    0.832980\n",
       "color_forecast_error_02w_rolling    0.829640\n",
       "color_forecast_error_03w_rolling    0.820758\n",
       "color_forecast_error_04w_rolling    0.812544\n",
       "color_forecast_error_12w_rolling    0.772019\n",
       "color_forecast_error_24w_rolling    0.784367\n",
       "dtype: float64"
      ]
     },
     "metadata": {},
     "output_type": "display_data"
    },
    {
     "name": "stdout",
     "output_type": "stream",
     "text": [
      "\n",
      "Rolling Average Performance in Pandemic_Q4:\n",
      "Raw Numbers:\n"
     ]
    },
    {
     "data": {
      "text/html": [
       "<div>\n",
       "<style scoped>\n",
       "    .dataframe tbody tr th:only-of-type {\n",
       "        vertical-align: middle;\n",
       "    }\n",
       "\n",
       "    .dataframe tbody tr th {\n",
       "        vertical-align: top;\n",
       "    }\n",
       "\n",
       "    .dataframe thead th {\n",
       "        text-align: right;\n",
       "    }\n",
       "</style>\n",
       "<table border=\"1\" class=\"dataframe\">\n",
       "  <thead>\n",
       "    <tr style=\"text-align: right;\">\n",
       "      <th>value</th>\n",
       "      <th>-2</th>\n",
       "      <th>-1</th>\n",
       "      <th>0</th>\n",
       "      <th>1</th>\n",
       "      <th>2</th>\n",
       "    </tr>\n",
       "    <tr>\n",
       "      <th>variable</th>\n",
       "      <th></th>\n",
       "      <th></th>\n",
       "      <th></th>\n",
       "      <th></th>\n",
       "      <th></th>\n",
       "    </tr>\n",
       "  </thead>\n",
       "  <tbody>\n",
       "    <tr>\n",
       "      <th>color_forecast_error_01w_rolling</th>\n",
       "      <td>0.033704</td>\n",
       "      <td>0.122554</td>\n",
       "      <td>0.651372</td>\n",
       "      <td>0.147767</td>\n",
       "      <td>0.044603</td>\n",
       "    </tr>\n",
       "    <tr>\n",
       "      <th>color_forecast_error_02w_rolling</th>\n",
       "      <td>0.020831</td>\n",
       "      <td>0.128636</td>\n",
       "      <td>0.648537</td>\n",
       "      <td>0.169855</td>\n",
       "      <td>0.032141</td>\n",
       "    </tr>\n",
       "    <tr>\n",
       "      <th>color_forecast_error_03w_rolling</th>\n",
       "      <td>0.022523</td>\n",
       "      <td>0.121652</td>\n",
       "      <td>0.661973</td>\n",
       "      <td>0.164700</td>\n",
       "      <td>0.029152</td>\n",
       "    </tr>\n",
       "    <tr>\n",
       "      <th>color_forecast_error_04w_rolling</th>\n",
       "      <td>0.019768</td>\n",
       "      <td>0.123545</td>\n",
       "      <td>0.665139</td>\n",
       "      <td>0.165997</td>\n",
       "      <td>0.025552</td>\n",
       "    </tr>\n",
       "    <tr>\n",
       "      <th>color_forecast_error_12w_rolling</th>\n",
       "      <td>0.031658</td>\n",
       "      <td>0.183026</td>\n",
       "      <td>0.700437</td>\n",
       "      <td>0.079224</td>\n",
       "      <td>0.005655</td>\n",
       "    </tr>\n",
       "    <tr>\n",
       "      <th>color_forecast_error_24w_rolling</th>\n",
       "      <td>0.052666</td>\n",
       "      <td>0.210905</td>\n",
       "      <td>0.684222</td>\n",
       "      <td>0.050918</td>\n",
       "      <td>0.001289</td>\n",
       "    </tr>\n",
       "  </tbody>\n",
       "</table>\n",
       "</div>"
      ],
      "text/plain": [
       "value                                   -2        -1         0         1  \\\n",
       "variable                                                                   \n",
       "color_forecast_error_01w_rolling  0.033704  0.122554  0.651372  0.147767   \n",
       "color_forecast_error_02w_rolling  0.020831  0.128636  0.648537  0.169855   \n",
       "color_forecast_error_03w_rolling  0.022523  0.121652  0.661973  0.164700   \n",
       "color_forecast_error_04w_rolling  0.019768  0.123545  0.665139  0.165997   \n",
       "color_forecast_error_12w_rolling  0.031658  0.183026  0.700437  0.079224   \n",
       "color_forecast_error_24w_rolling  0.052666  0.210905  0.684222  0.050918   \n",
       "\n",
       "value                                    2  \n",
       "variable                                    \n",
       "color_forecast_error_01w_rolling  0.044603  \n",
       "color_forecast_error_02w_rolling  0.032141  \n",
       "color_forecast_error_03w_rolling  0.029152  \n",
       "color_forecast_error_04w_rolling  0.025552  \n",
       "color_forecast_error_12w_rolling  0.005655  \n",
       "color_forecast_error_24w_rolling  0.001289  "
      ]
     },
     "metadata": {},
     "output_type": "display_data"
    },
    {
     "name": "stdout",
     "output_type": "stream",
     "text": [
      "Heatmap:\n"
     ]
    },
    {
     "data": {
      "image/png": "[encoded data removed]",
      "text/plain": [
       "<Figure size 432x288 with 2 Axes>"
      ]
     },
     "metadata": {},
     "output_type": "display_data"
    },
    {
     "name": "stdout",
     "output_type": "stream",
     "text": [
      "Pessimism Rates:\n"
     ]
    },
    {
     "data": {
      "text/plain": [
       "variable\n",
       "color_forecast_error_01w_rolling    0.799140\n",
       "color_forecast_error_02w_rolling    0.818392\n",
       "color_forecast_error_03w_rolling    0.826673\n",
       "color_forecast_error_04w_rolling    0.831136\n",
       "color_forecast_error_12w_rolling    0.779662\n",
       "color_forecast_error_24w_rolling    0.735140\n",
       "dtype: float64"
      ]
     },
     "metadata": {},
     "output_type": "display_data"
    },
    {
     "name": "stdout",
     "output_type": "stream",
     "text": [
      "\n"
     ]
    }
   ],
   "source": [
    "for name, color_error_table in color_error_tables.items():\n",
    "    print(f'Rolling Average Performance in {name.title()}:')\n",
    "    print('Raw Numbers:')\n",
    "    display(color_error_table)\n",
    "    print('Heatmap:')\n",
    "    sns.heatmap(color_error_table, cmap='viridis')\n",
    "    plt.show()\n",
    "    print('Pessimism Rates:')\n",
    "    display(color_error_table[[c for c in color_error_table.columns if 0 <= c <= 1]].sum(axis='columns'))\n",
    "    print()"
   ]
  },
  {
   "cell_type": "code",
   "execution_count": 147,
   "metadata": {},
   "outputs": [
    {
     "data": {
      "text/plain": [
       "Timestamp('2020-01-06 08:15:00')"
      ]
     },
     "execution_count": 147,
     "metadata": {},
     "output_type": "execute_result"
    }
   ],
   "source": [
    "requested_dt = dt.datetime(2020, 1, 6, 8, 15)\n",
    "pd.Timestamp(requested_dt)\n",
    "# occupancy.semihour.head().iloc[0]"
   ]
  },
  {
   "cell_type": "code",
   "execution_count": 150,
   "metadata": {},
   "outputs": [
    {
     "name": "stdout",
     "output_type": "stream",
     "text": [
      "training_data[f\"available_rate_{weeks_to_average:0>2}w\"]=2352       NaN\n",
      "2548       1.0\n",
      "2744       1.0\n",
      "2940       1.0\n",
      "3136       1.0\n",
      "          ... \n",
      "7614588    1.0\n",
      "7614784    1.0\n",
      "7614980    1.0\n",
      "7615176    1.0\n",
      "7615344    1.0\n",
      "Name: available_rate_01w, Length: 6219716, dtype: float64\n"
     ]
    }
   ],
   "source": [
    "weeks_to_average = 1\n",
    "training_data = occupancy.assign(\n",
    "    available_rate=lambda df: 1 - df.occu_cnt_rate,\n",
    "    dayofweek=lambda df: df.semihour.dt.dayofweek.astype('category'),\n",
    "    semihour_tuples=lambda df: pd.Series(\n",
    "        zip(df.semihour.dt.hour, df.semihour.dt.minute),\n",
    "        dtype='category', index=df.index\n",
    "    )\n",
    ")\n",
    "training_data = training_data.sort_values(\n",
    "    ['zone_id', 'dayofweek', 'semihour_tuples']\n",
    ")\n",
    "training_data[f'available_rate_{weeks_to_average:0>2}w'] = (\n",
    "    training_data.groupby(\n",
    "        ['zone_id', 'dayofweek', 'semihour_tuples']\n",
    "    ).available_rate.transform(\n",
    "        lambda group: group.shift().rolling(weeks_to_average, 1).mean()\n",
    "    ).clip(0, 1)\n",
    ")\n",
    "print(f'{training_data[f\"available_rate_{weeks_to_average:0>2}w\"]=}')\n",
    "_supported_zones = training_data.zone_id.unique()\n",
    "_rolling_averages = training_data.set_index(\n",
    "    ['zone_id', 'semihour']\n",
    ")[['semihour_tuples', f'available_rate_{weeks_to_average:0>2}w']]"
   ]
  },
  {
   "cell_type": "code",
   "execution_count": 108,
   "metadata": {},
   "outputs": [],
   "source": [
    "foo = (occupancy[\n",
    "         [f'color_forecast_error_{weeks:0>2}w_rolling' for weeks in windows_in_weeks]\n",
    "     ].melt()\n",
    "      .groupby(['variable', 'value'], sort=False)\n",
    "      .size()\n",
    "      .rename('count')\n",
    "      .reset_index()\n",
    "      .assign(\n",
    "          proportion=lambda df: df['count'] / df.groupby('variable')['count'].transform(lambda s: s.sum())\n",
    "      )\n",
    "      .set_index(['variable', 'value'])\n",
    "      .proportion\n",
    "      .unstack())\n",
    "# foo = foo.loc[[f'color_forecast_error_{weeks:0>2}w_rolling' for weeks in windows_in_weeks]]"
   ]
  },
  {
   "cell_type": "code",
   "execution_count": 115,
   "metadata": {},
   "outputs": [
    {
     "data": {
      "text/plain": [
       "variable\n",
       "color_forecast_error_01w_rolling    0.784309\n",
       "color_forecast_error_02w_rolling    0.777803\n",
       "color_forecast_error_03w_rolling    0.772661\n",
       "color_forecast_error_04w_rolling    0.764466\n",
       "color_forecast_error_12w_rolling    0.757408\n",
       "color_forecast_error_24w_rolling    0.760368\n",
       "dtype: float64"
      ]
     },
     "execution_count": 115,
     "metadata": {},
     "output_type": "execute_result"
    }
   ],
   "source": [
    "foo[[c for c in foo.columns if 0 <= c <= 1]].sum(axis='columns')"
   ]
  },
  {
   "cell_type": "code",
   "execution_count": 109,
   "metadata": {},
   "outputs": [
    {
     "data": {
      "text/plain": [
       "<AxesSubplot:xlabel='value', ylabel='variable'>"
      ]
     },
     "execution_count": 109,
     "metadata": {},
     "output_type": "execute_result"
    },
    {
     "data": {
      "image/png": "[encoded data removed]",
      "text/plain": [
       "<Figure size 432x288 with 2 Axes>"
      ]
     },
     "metadata": {},
     "output_type": "display_data"
    }
   ],
   "source": [
    "sns.heatmap(foo)"
   ]
  },
  {
   "cell_type": "code",
   "execution_count": 105,
   "metadata": {},
   "outputs": [
    {
     "ename": "KeyError",
     "evalue": "\"Passing list-likes to .loc or [] with any missing labels is no longer supported. The following labels were missing: Index(['color_forecast_error_01w_rolling', 'color_forecast_error_02w_rolling',\\n       'color_forecast_error_03w_rolling', 'color_forecast_error_04w_rolling'],\\n      dtype='object', name='variable'). See https://pandas.pydata.org/pandas-docs/stable/user_guide/indexing.html#deprecate-loc-reindex-listlike\"",
     "output_type": "error",
     "traceback": [
      "\u001b[0;31m---------------------------------------------------------------------------\u001b[0m",
      "\u001b[0;31mKeyError\u001b[0m                                  Traceback (most recent call last)",
      "\u001b[0;32m<ipython-input-105-006be4f67f20>\u001b[0m in \u001b[0;36m<module>\u001b[0;34m\u001b[0m\n\u001b[1;32m      1\u001b[0m sns.heatmap(\n\u001b[0;32m----> 2\u001b[0;31m     (occupancy[\n\u001b[0m\u001b[1;32m      3\u001b[0m          \u001b[0;34m[\u001b[0m\u001b[0;34mf'color_forecast_error_{weeks}w_rolling'\u001b[0m \u001b[0;32mfor\u001b[0m \u001b[0mweeks\u001b[0m \u001b[0;32min\u001b[0m \u001b[0mwindows_in_weeks\u001b[0m\u001b[0;34m]\u001b[0m\u001b[0;34m\u001b[0m\u001b[0;34m\u001b[0m\u001b[0m\n\u001b[1;32m      4\u001b[0m      ].melt()\n\u001b[1;32m      5\u001b[0m       \u001b[0;34m.\u001b[0m\u001b[0mgroupby\u001b[0m\u001b[0;34m(\u001b[0m\u001b[0;34m[\u001b[0m\u001b[0;34m'variable'\u001b[0m\u001b[0;34m,\u001b[0m \u001b[0;34m'value'\u001b[0m\u001b[0;34m]\u001b[0m\u001b[0;34m,\u001b[0m \u001b[0msort\u001b[0m\u001b[0;34m=\u001b[0m\u001b[0;32mFalse\u001b[0m\u001b[0;34m)\u001b[0m\u001b[0;34m\u001b[0m\u001b[0;34m\u001b[0m\u001b[0m\n",
      "\u001b[0;32m~/Library/Caches/pypoetry/virtualenvs/predictive-parking-J8Xdfjko-py3.8/lib/python3.8/site-packages/pandas/core/indexing.py\u001b[0m in \u001b[0;36m__getitem__\u001b[0;34m(self, key)\u001b[0m\n\u001b[1;32m    877\u001b[0m \u001b[0;34m\u001b[0m\u001b[0m\n\u001b[1;32m    878\u001b[0m             \u001b[0mmaybe_callable\u001b[0m \u001b[0;34m=\u001b[0m \u001b[0mcom\u001b[0m\u001b[0;34m.\u001b[0m\u001b[0mapply_if_callable\u001b[0m\u001b[0;34m(\u001b[0m\u001b[0mkey\u001b[0m\u001b[0;34m,\u001b[0m \u001b[0mself\u001b[0m\u001b[0;34m.\u001b[0m\u001b[0mobj\u001b[0m\u001b[0;34m)\u001b[0m\u001b[0;34m\u001b[0m\u001b[0;34m\u001b[0m\u001b[0m\n\u001b[0;32m--> 879\u001b[0;31m             \u001b[0;32mreturn\u001b[0m \u001b[0mself\u001b[0m\u001b[0;34m.\u001b[0m\u001b[0m_getitem_axis\u001b[0m\u001b[0;34m(\u001b[0m\u001b[0mmaybe_callable\u001b[0m\u001b[0;34m,\u001b[0m \u001b[0maxis\u001b[0m\u001b[0;34m=\u001b[0m\u001b[0maxis\u001b[0m\u001b[0;34m)\u001b[0m\u001b[0;34m\u001b[0m\u001b[0;34m\u001b[0m\u001b[0m\n\u001b[0m\u001b[1;32m    880\u001b[0m \u001b[0;34m\u001b[0m\u001b[0m\n\u001b[1;32m    881\u001b[0m     \u001b[0;32mdef\u001b[0m \u001b[0m_is_scalar_access\u001b[0m\u001b[0;34m(\u001b[0m\u001b[0mself\u001b[0m\u001b[0;34m,\u001b[0m \u001b[0mkey\u001b[0m\u001b[0;34m:\u001b[0m \u001b[0mTuple\u001b[0m\u001b[0;34m)\u001b[0m\u001b[0;34m:\u001b[0m\u001b[0;34m\u001b[0m\u001b[0;34m\u001b[0m\u001b[0m\n",
      "\u001b[0;32m~/Library/Caches/pypoetry/virtualenvs/predictive-parking-J8Xdfjko-py3.8/lib/python3.8/site-packages/pandas/core/indexing.py\u001b[0m in \u001b[0;36m_getitem_axis\u001b[0;34m(self, key, axis)\u001b[0m\n\u001b[1;32m   1097\u001b[0m                     \u001b[0;32mraise\u001b[0m \u001b[0mValueError\u001b[0m\u001b[0;34m(\u001b[0m\u001b[0;34m\"Cannot index with multidimensional key\"\u001b[0m\u001b[0;34m)\u001b[0m\u001b[0;34m\u001b[0m\u001b[0;34m\u001b[0m\u001b[0m\n\u001b[1;32m   1098\u001b[0m \u001b[0;34m\u001b[0m\u001b[0m\n\u001b[0;32m-> 1099\u001b[0;31m                 \u001b[0;32mreturn\u001b[0m \u001b[0mself\u001b[0m\u001b[0;34m.\u001b[0m\u001b[0m_getitem_iterable\u001b[0m\u001b[0;34m(\u001b[0m\u001b[0mkey\u001b[0m\u001b[0;34m,\u001b[0m \u001b[0maxis\u001b[0m\u001b[0;34m=\u001b[0m\u001b[0maxis\u001b[0m\u001b[0;34m)\u001b[0m\u001b[0;34m\u001b[0m\u001b[0;34m\u001b[0m\u001b[0m\n\u001b[0m\u001b[1;32m   1100\u001b[0m \u001b[0;34m\u001b[0m\u001b[0m\n\u001b[1;32m   1101\u001b[0m             \u001b[0;31m# nested tuple slicing\u001b[0m\u001b[0;34m\u001b[0m\u001b[0;34m\u001b[0m\u001b[0;34m\u001b[0m\u001b[0m\n",
      "\u001b[0;32m~/Library/Caches/pypoetry/virtualenvs/predictive-parking-J8Xdfjko-py3.8/lib/python3.8/site-packages/pandas/core/indexing.py\u001b[0m in \u001b[0;36m_getitem_iterable\u001b[0;34m(self, key, axis)\u001b[0m\n\u001b[1;32m   1035\u001b[0m \u001b[0;34m\u001b[0m\u001b[0m\n\u001b[1;32m   1036\u001b[0m         \u001b[0;31m# A collection of keys\u001b[0m\u001b[0;34m\u001b[0m\u001b[0;34m\u001b[0m\u001b[0;34m\u001b[0m\u001b[0m\n\u001b[0;32m-> 1037\u001b[0;31m         \u001b[0mkeyarr\u001b[0m\u001b[0;34m,\u001b[0m \u001b[0mindexer\u001b[0m \u001b[0;34m=\u001b[0m \u001b[0mself\u001b[0m\u001b[0;34m.\u001b[0m\u001b[0m_get_listlike_indexer\u001b[0m\u001b[0;34m(\u001b[0m\u001b[0mkey\u001b[0m\u001b[0;34m,\u001b[0m \u001b[0maxis\u001b[0m\u001b[0;34m,\u001b[0m \u001b[0mraise_missing\u001b[0m\u001b[0;34m=\u001b[0m\u001b[0;32mFalse\u001b[0m\u001b[0;34m)\u001b[0m\u001b[0;34m\u001b[0m\u001b[0;34m\u001b[0m\u001b[0m\n\u001b[0m\u001b[1;32m   1038\u001b[0m         return self.obj._reindex_with_indexers(\n\u001b[1;32m   1039\u001b[0m             \u001b[0;34m{\u001b[0m\u001b[0maxis\u001b[0m\u001b[0;34m:\u001b[0m \u001b[0;34m[\u001b[0m\u001b[0mkeyarr\u001b[0m\u001b[0;34m,\u001b[0m \u001b[0mindexer\u001b[0m\u001b[0;34m]\u001b[0m\u001b[0;34m}\u001b[0m\u001b[0;34m,\u001b[0m \u001b[0mcopy\u001b[0m\u001b[0;34m=\u001b[0m\u001b[0;32mTrue\u001b[0m\u001b[0;34m,\u001b[0m \u001b[0mallow_dups\u001b[0m\u001b[0;34m=\u001b[0m\u001b[0;32mTrue\u001b[0m\u001b[0;34m\u001b[0m\u001b[0;34m\u001b[0m\u001b[0m\n",
      "\u001b[0;32m~/Library/Caches/pypoetry/virtualenvs/predictive-parking-J8Xdfjko-py3.8/lib/python3.8/site-packages/pandas/core/indexing.py\u001b[0m in \u001b[0;36m_get_listlike_indexer\u001b[0;34m(self, key, axis, raise_missing)\u001b[0m\n\u001b[1;32m   1252\u001b[0m             \u001b[0mkeyarr\u001b[0m\u001b[0;34m,\u001b[0m \u001b[0mindexer\u001b[0m\u001b[0;34m,\u001b[0m \u001b[0mnew_indexer\u001b[0m \u001b[0;34m=\u001b[0m \u001b[0max\u001b[0m\u001b[0;34m.\u001b[0m\u001b[0m_reindex_non_unique\u001b[0m\u001b[0;34m(\u001b[0m\u001b[0mkeyarr\u001b[0m\u001b[0;34m)\u001b[0m\u001b[0;34m\u001b[0m\u001b[0;34m\u001b[0m\u001b[0m\n\u001b[1;32m   1253\u001b[0m \u001b[0;34m\u001b[0m\u001b[0m\n\u001b[0;32m-> 1254\u001b[0;31m         \u001b[0mself\u001b[0m\u001b[0;34m.\u001b[0m\u001b[0m_validate_read_indexer\u001b[0m\u001b[0;34m(\u001b[0m\u001b[0mkeyarr\u001b[0m\u001b[0;34m,\u001b[0m \u001b[0mindexer\u001b[0m\u001b[0;34m,\u001b[0m \u001b[0maxis\u001b[0m\u001b[0;34m,\u001b[0m \u001b[0mraise_missing\u001b[0m\u001b[0;34m=\u001b[0m\u001b[0mraise_missing\u001b[0m\u001b[0;34m)\u001b[0m\u001b[0;34m\u001b[0m\u001b[0;34m\u001b[0m\u001b[0m\n\u001b[0m\u001b[1;32m   1255\u001b[0m         \u001b[0;32mreturn\u001b[0m \u001b[0mkeyarr\u001b[0m\u001b[0;34m,\u001b[0m \u001b[0mindexer\u001b[0m\u001b[0;34m\u001b[0m\u001b[0;34m\u001b[0m\u001b[0m\n\u001b[1;32m   1256\u001b[0m \u001b[0;34m\u001b[0m\u001b[0m\n",
      "\u001b[0;32m~/Library/Caches/pypoetry/virtualenvs/predictive-parking-J8Xdfjko-py3.8/lib/python3.8/site-packages/pandas/core/indexing.py\u001b[0m in \u001b[0;36m_validate_read_indexer\u001b[0;34m(self, key, indexer, axis, raise_missing)\u001b[0m\n\u001b[1;32m   1313\u001b[0m \u001b[0;34m\u001b[0m\u001b[0m\n\u001b[1;32m   1314\u001b[0m                 \u001b[0;32mwith\u001b[0m \u001b[0moption_context\u001b[0m\u001b[0;34m(\u001b[0m\u001b[0;34m\"display.max_seq_items\"\u001b[0m\u001b[0;34m,\u001b[0m \u001b[0;36m10\u001b[0m\u001b[0;34m,\u001b[0m \u001b[0;34m\"display.width\"\u001b[0m\u001b[0;34m,\u001b[0m \u001b[0;36m80\u001b[0m\u001b[0;34m)\u001b[0m\u001b[0;34m:\u001b[0m\u001b[0;34m\u001b[0m\u001b[0;34m\u001b[0m\u001b[0m\n\u001b[0;32m-> 1315\u001b[0;31m                     raise KeyError(\n\u001b[0m\u001b[1;32m   1316\u001b[0m                         \u001b[0;34m\"Passing list-likes to .loc or [] with any missing labels \"\u001b[0m\u001b[0;34m\u001b[0m\u001b[0;34m\u001b[0m\u001b[0m\n\u001b[1;32m   1317\u001b[0m                         \u001b[0;34m\"is no longer supported. \"\u001b[0m\u001b[0;34m\u001b[0m\u001b[0;34m\u001b[0m\u001b[0m\n",
      "\u001b[0;31mKeyError\u001b[0m: \"Passing list-likes to .loc or [] with any missing labels is no longer supported. The following labels were missing: Index(['color_forecast_error_01w_rolling', 'color_forecast_error_02w_rolling',\\n       'color_forecast_error_03w_rolling', 'color_forecast_error_04w_rolling'],\\n      dtype='object', name='variable'). See https://pandas.pydata.org/pandas-docs/stable/user_guide/indexing.html#deprecate-loc-reindex-listlike\""
     ]
    }
   ],
   "source": [
    "sns.heatmap(\n",
    "    (occupancy[\n",
    "         [f'color_forecast_error_{weeks}w_rolling' for weeks in windows_in_weeks]\n",
    "     ].melt()\n",
    "      .groupby(['variable', 'value'], sort=False)\n",
    "      .size()\n",
    "      .rename('count')\n",
    "      .reset_index()\n",
    "      .assign(\n",
    "          proportion=lambda df: df['count'] / df.groupby('variable')['count'].transform(lambda s: s.sum())\n",
    "      )\n",
    "      .set_index(['variable', 'value'])\n",
    "      .loc[[f'color_forecast_error_{weeks}w_rolling' for weeks in windows_in_weeks]]\n",
    "      .proportion\n",
    "      .unstack()\n",
    "      .loc[[f'color_forecast_error_{weeks:0>2}w_rolling' for weeks in windows_in_weeks]])\n",
    ")"
   ]
  },
  {
   "cell_type": "code",
   "execution_count": 64,
   "metadata": {},
   "outputs": [
    {
     "data": {
      "image/png": "[encoded data removed]",
      "text/plain": [
       "<Figure size 1728x432 with 6 Axes>"
      ]
     },
     "metadata": {},
     "output_type": "display_data"
    }
   ],
   "source": [
    "fig, axes = plt.subplots(1, len(windows_in_weeks), figsize=(24, 6), sharex=True, sharey=True)\n",
    "for i, weeks in enumerate(windows_in_weeks):\n",
    "    sns.histplot(\n",
    "        occupancy[f'color_forecast_error_{weeks}w_rolling'],\n",
    "        stat='probability',\n",
    "        ax=axes[i]\n",
    "    )"
   ]
  },
  {
   "cell_type": "code",
   "execution_count": 50,
   "metadata": {},
   "outputs": [
    {
     "data": {
      "text/plain": [
       " 0    4248839\n",
       "-1     810474\n",
       " 1     797370\n",
       " 2     293606\n",
       "-2     284299\n",
       "Name: 1, dtype: int64"
      ]
     },
     "execution_count": 50,
     "metadata": {},
     "output_type": "execute_result"
    }
   ],
   "source": [
    "cfes = occupancy[[f'color_forecast_error_{weeks}w_rolling' for weeks in windows_in_weeks]]\n",
    "cfes.columns = windows_in_weeks\n"
   ]
  },
  {
   "cell_type": "code",
   "execution_count": null,
   "metadata": {},
   "outputs": [],
   "source": [
    "sept2019_pc_color_errors = {\n",
    "    model_id: -(actual_colors - model_pc_colors)#.astype('category')\n",
    "    for model_id, model_pc_colors in sept2019_pc_colors.items()\n",
    "}\n",
    "\n",
    "fig, axes = plt.subplots(1, 4, figsize=(24, 6), sharex=True, sharey=True)\n",
    "for i, (key, vals) in enumerate(sept2019_pc_color_errors.items()):\n",
    "    sns.histplot(vals, ax=axes[i])"
   ]
  },
  {
   "cell_type": "markdown",
   "metadata": {},
   "source": [
    "## Define `y_test`"
   ]
  },
  {
   "cell_type": "code",
   "execution_count": 787,
   "metadata": {},
   "outputs": [],
   "source": [
    "with open('pandemic_forecasts_by_start_date.pkl', 'rb') as f:\n",
    "    pandemic_forecasts_by_start_date = pickle.load(f)\n",
    "\n",
    "\n",
    "def maybe_tqdm(iterable, interactive=True, **tqdm_kwargs):\n",
    "    if interactive:\n",
    "        wrapped_iterable = tqdm(iterable, **tqdm_kwargs)\n",
    "    else:\n",
    "        wrapped_iterable = iterable\n",
    "    return wrapped_iterable\n",
    "\n",
    "\n",
    "def y_test(occupancy_df, daily_zone_forecasts, interactive=True):\n",
    "    y = {}\n",
    "    for day, zone_forecasts in maybe_tqdm(daily_zone_forecasts.items()):\n",
    "        y[day] = {}\n",
    "        for zone, zone_forecast in maybe_tqdm(zone_forecasts.items(), leave=False):\n",
    "            occupancy_df_in_zone_at_time = pd.merge(\n",
    "                occupancy_df[occupancy_df.zone_id == zone],\n",
    "                zone_forecast[['ds']],\n",
    "                left_on='semihour',\n",
    "                right_on='ds',\n",
    "                how='right'\n",
    "            )\n",
    "            y[day][zone] = occupancy_df_in_zone_at_time.set_index('semihour')[['available_rate']]\n",
    "    return y"
   ]
  },
  {
   "cell_type": "code",
   "execution_count": 788,
   "metadata": {},
   "outputs": [
    {
     "data": {
      "application/vnd.jupyter.widget-view+json": {
       "model_id": "a717b8202cf14c5b92cf4d60c41ed068",
       "version_major": 2,
       "version_minor": 0
      },
      "text/plain": [
       "HBox(children=(FloatProgress(value=0.0, max=6.0), HTML(value='')))"
      ]
     },
     "metadata": {},
     "output_type": "display_data"
    },
    {
     "data": {
      "application/vnd.jupyter.widget-view+json": {
       "model_id": "",
       "version_major": 2,
       "version_minor": 0
      },
      "text/plain": [
       "HBox(children=(FloatProgress(value=0.0, max=372.0), HTML(value='')))"
      ]
     },
     "metadata": {},
     "output_type": "display_data"
    },
    {
     "data": {
      "application/vnd.jupyter.widget-view+json": {
       "model_id": "",
       "version_major": 2,
       "version_minor": 0
      },
      "text/plain": [
       "HBox(children=(FloatProgress(value=0.0, max=372.0), HTML(value='')))"
      ]
     },
     "metadata": {},
     "output_type": "display_data"
    },
    {
     "data": {
      "application/vnd.jupyter.widget-view+json": {
       "model_id": "",
       "version_major": 2,
       "version_minor": 0
      },
      "text/plain": [
       "HBox(children=(FloatProgress(value=0.0, max=372.0), HTML(value='')))"
      ]
     },
     "metadata": {},
     "output_type": "display_data"
    },
    {
     "data": {
      "application/vnd.jupyter.widget-view+json": {
       "model_id": "",
       "version_major": 2,
       "version_minor": 0
      },
      "text/plain": [
       "HBox(children=(FloatProgress(value=0.0, max=372.0), HTML(value='')))"
      ]
     },
     "metadata": {},
     "output_type": "display_data"
    },
    {
     "data": {
      "application/vnd.jupyter.widget-view+json": {
       "model_id": "",
       "version_major": 2,
       "version_minor": 0
      },
      "text/plain": [
       "HBox(children=(FloatProgress(value=0.0, max=372.0), HTML(value='')))"
      ]
     },
     "metadata": {},
     "output_type": "display_data"
    },
    {
     "data": {
      "application/vnd.jupyter.widget-view+json": {
       "model_id": "",
       "version_major": 2,
       "version_minor": 0
      },
      "text/plain": [
       "HBox(children=(FloatProgress(value=0.0, max=372.0), HTML(value='')))"
      ]
     },
     "metadata": {},
     "output_type": "display_data"
    },
    {
     "name": "stdout",
     "output_type": "stream",
     "text": [
      "\n"
     ]
    },
    {
     "data": {
      "application/vnd.jupyter.widget-view+json": {
       "model_id": "c45f78e9b8e14d2fac71afd4f25a6d39",
       "version_major": 2,
       "version_minor": 0
      },
      "text/plain": [
       "HBox(children=(FloatProgress(value=0.0, max=6.0), HTML(value='')))"
      ]
     },
     "metadata": {},
     "output_type": "display_data"
    },
    {
     "data": {
      "application/vnd.jupyter.widget-view+json": {
       "model_id": "",
       "version_major": 2,
       "version_minor": 0
      },
      "text/plain": [
       "HBox(children=(FloatProgress(value=0.0, max=408.0), HTML(value='')))"
      ]
     },
     "metadata": {},
     "output_type": "display_data"
    },
    {
     "data": {
      "application/vnd.jupyter.widget-view+json": {
       "model_id": "",
       "version_major": 2,
       "version_minor": 0
      },
      "text/plain": [
       "HBox(children=(FloatProgress(value=0.0, max=408.0), HTML(value='')))"
      ]
     },
     "metadata": {},
     "output_type": "display_data"
    },
    {
     "data": {
      "application/vnd.jupyter.widget-view+json": {
       "model_id": "",
       "version_major": 2,
       "version_minor": 0
      },
      "text/plain": [
       "HBox(children=(FloatProgress(value=0.0, max=408.0), HTML(value='')))"
      ]
     },
     "metadata": {},
     "output_type": "display_data"
    },
    {
     "data": {
      "application/vnd.jupyter.widget-view+json": {
       "model_id": "",
       "version_major": 2,
       "version_minor": 0
      },
      "text/plain": [
       "HBox(children=(FloatProgress(value=0.0, max=408.0), HTML(value='')))"
      ]
     },
     "metadata": {},
     "output_type": "display_data"
    },
    {
     "data": {
      "application/vnd.jupyter.widget-view+json": {
       "model_id": "",
       "version_major": 2,
       "version_minor": 0
      },
      "text/plain": [
       "HBox(children=(FloatProgress(value=0.0, max=408.0), HTML(value='')))"
      ]
     },
     "metadata": {},
     "output_type": "display_data"
    },
    {
     "data": {
      "application/vnd.jupyter.widget-view+json": {
       "model_id": "",
       "version_major": 2,
       "version_minor": 0
      },
      "text/plain": [
       "HBox(children=(FloatProgress(value=0.0, max=408.0), HTML(value='')))"
      ]
     },
     "metadata": {},
     "output_type": "display_data"
    },
    {
     "name": "stdout",
     "output_type": "stream",
     "text": [
      "\n"
     ]
    }
   ],
   "source": [
    "y_test_sept2019 = y_test(occupancy, forecasts_by_start_date)\n",
    "y_test_pandemic = y_test(occupancy, pandemic_forecasts_by_start_date)"
   ]
  },
  {
   "cell_type": "markdown",
   "metadata": {},
   "source": [
    "## Define Metrics"
   ]
  },
  {
   "cell_type": "code",
   "execution_count": 621,
   "metadata": {},
   "outputs": [],
   "source": [
    "from functools import wraps, reduce, partial\n",
    "from operator import itemgetter\n",
    "from typing import Callable, Iterable\n",
    "\n",
    "def recursive_operator(operator=None, *, valid_input_class=(pd.Series,)):\n",
    "    if operator is None:\n",
    "        return lambda operator: recursive_operator(operator, valid_input_class=valid_input_class)\n",
    "    @wraps(operator)\n",
    "    def recursively_operate(*args, **kwargs):\n",
    "        if all(isinstance(dataset, valid_input_class) for dataset in args):\n",
    "            return operator(*args, **kwargs)\n",
    "        elif all(isinstance(dataset, list) for dataset in args):\n",
    "            if len({len(dataset) for dataset in args}) != 1:\n",
    "                raise ValueError('args are lists of different sizes.')\n",
    "            return [recursively_operate(*dataset_tuple, **kwargs)\n",
    "                    for dataset_tuple in zip(*args)]\n",
    "        elif all(isinstance(dataset, dict) for dataset in args):\n",
    "            if any(set(dataset.keys()) != set(args[0].keys()) for dataset in args):\n",
    "                raise ValueError('All args must have the same keys.')\n",
    "            return {group: recursively_operate(*map(itemgetter(group), args),\n",
    "                                               **kwargs)\n",
    "                    for group in args[0].keys()}\n",
    "        else:\n",
    "            types = list(map(type, args))\n",
    "            raise NotImplementedError(f'Unhandled type found in args. (Types in args: {types})')\n",
    "    return recursively_operate"
   ]
  },
  {
   "cell_type": "markdown",
   "metadata": {},
   "source": [
    "## Define `y_train`"
   ]
  },
  {
   "cell_type": "code",
   "execution_count": 719,
   "metadata": {},
   "outputs": [
    {
     "data": {
      "application/vnd.jupyter.widget-view+json": {
       "model_id": "cdf85bd5bf634c4e95901eec7a220283",
       "version_major": 2,
       "version_minor": 0
      },
      "text/plain": [
       "HBox(children=(FloatProgress(value=0.0, max=6.0), HTML(value='')))"
      ]
     },
     "metadata": {},
     "output_type": "display_data"
    },
    {
     "name": "stdout",
     "output_type": "stream",
     "text": [
      "\n"
     ]
    },
    {
     "data": {
      "application/vnd.jupyter.widget-view+json": {
       "model_id": "f47ceb2d4ab848aea5236a7ea0000866",
       "version_major": 2,
       "version_minor": 0
      },
      "text/plain": [
       "HBox(children=(FloatProgress(value=0.0, max=6.0), HTML(value='')))"
      ]
     },
     "metadata": {},
     "output_type": "display_data"
    },
    {
     "name": "stdout",
     "output_type": "stream",
     "text": [
      "\n"
     ]
    }
   ],
   "source": [
    "y_train_sept2019 = y_train(occupancy, TRAINING_START_DATES)\n",
    "y_train_pandemic = y_train(occupancy, pandemic_training_start_dates)"
   ]
  },
  {
   "cell_type": "markdown",
   "metadata": {},
   "source": [
    "## Forecast Error Calculations"
   ]
  },
  {
   "cell_type": "code",
   "execution_count": 741,
   "metadata": {},
   "outputs": [],
   "source": [
    "forecasts_sept2019 = pd.DataFrame.from_dict(\n",
    "    {\n",
    "        (zone_id, forecast.ds.dayofweek, (forecast.ds.hour, forecast.ds.minute)): forecast\n",
    "        for _, forecasts_all_zones in forecasts_by_start_date.items()\n",
    "        for zone_id, forecast_single_zone in forecasts_all_zones.items()\n",
    "        for _, forecast in forecast_single_zone.iterrows()\n",
    "    },\n",
    "    orient='index'\n",
    ").rename_axis(index=('zone_id', 'day_of_week', 'semihour')).drop(columns='ds')\n",
    "\n",
    "y_test_sept2019_df = pd.DataFrame.from_dict(\n",
    "    {\n",
    "        (zone_id, forecast.ds): forecast\n",
    "        for _, forecasts_all_zones in forecasts_by_start_date.items()\n",
    "        for zone_id, forecast_single_zone in forecasts_all_zones.items()\n",
    "        for _, forecast in forecast_single_zone.iterrows()\n",
    "    },\n",
    "    orient='index'\n",
    ").rename_axis(index=('zone_id', 'ds')).drop(columns='ds')"
   ]
  },
  {
   "cell_type": "code",
   "execution_count": 742,
   "metadata": {},
   "outputs": [
    {
     "data": {
      "text/html": [
       "<div>\n",
       "<style scoped>\n",
       "    .dataframe tbody tr th:only-of-type {\n",
       "        vertical-align: middle;\n",
       "    }\n",
       "\n",
       "    .dataframe tbody tr th {\n",
       "        vertical-align: top;\n",
       "    }\n",
       "\n",
       "    .dataframe thead th {\n",
       "        text-align: right;\n",
       "    }\n",
       "</style>\n",
       "<table border=\"1\" class=\"dataframe\">\n",
       "  <thead>\n",
       "    <tr style=\"text-align: right;\">\n",
       "      <th></th>\n",
       "      <th></th>\n",
       "      <th></th>\n",
       "      <th>trend</th>\n",
       "      <th>yhat_lower</th>\n",
       "      <th>yhat_upper</th>\n",
       "      <th>trend_lower</th>\n",
       "      <th>trend_upper</th>\n",
       "      <th>additive_terms</th>\n",
       "      <th>additive_terms_lower</th>\n",
       "      <th>additive_terms_upper</th>\n",
       "      <th>daily</th>\n",
       "      <th>daily_lower</th>\n",
       "      <th>daily_upper</th>\n",
       "      <th>weekly</th>\n",
       "      <th>weekly_lower</th>\n",
       "      <th>weekly_upper</th>\n",
       "      <th>multiplicative_terms</th>\n",
       "      <th>multiplicative_terms_lower</th>\n",
       "      <th>multiplicative_terms_upper</th>\n",
       "      <th>yhat</th>\n",
       "    </tr>\n",
       "    <tr>\n",
       "      <th>zone_id</th>\n",
       "      <th>day_of_week</th>\n",
       "      <th>semihour</th>\n",
       "      <th></th>\n",
       "      <th></th>\n",
       "      <th></th>\n",
       "      <th></th>\n",
       "      <th></th>\n",
       "      <th></th>\n",
       "      <th></th>\n",
       "      <th></th>\n",
       "      <th></th>\n",
       "      <th></th>\n",
       "      <th></th>\n",
       "      <th></th>\n",
       "      <th></th>\n",
       "      <th></th>\n",
       "      <th></th>\n",
       "      <th></th>\n",
       "      <th></th>\n",
       "      <th></th>\n",
       "    </tr>\n",
       "  </thead>\n",
       "  <tbody>\n",
       "    <tr>\n",
       "      <th rowspan=\"5\" valign=\"top\">17012</th>\n",
       "      <th rowspan=\"5\" valign=\"top\">0</th>\n",
       "      <th>(8, 0)</th>\n",
       "      <td>0.806951</td>\n",
       "      <td>0.716495</td>\n",
       "      <td>1.275695</td>\n",
       "      <td>0.806951</td>\n",
       "      <td>0.806951</td>\n",
       "      <td>0.183731</td>\n",
       "      <td>0.183731</td>\n",
       "      <td>0.183731</td>\n",
       "      <td>0.275780</td>\n",
       "      <td>0.275780</td>\n",
       "      <td>0.275780</td>\n",
       "      <td>-0.092049</td>\n",
       "      <td>-0.092049</td>\n",
       "      <td>-0.092049</td>\n",
       "      <td>0.0</td>\n",
       "      <td>0.0</td>\n",
       "      <td>0.0</td>\n",
       "      <td>0.990681</td>\n",
       "    </tr>\n",
       "    <tr>\n",
       "      <th>(8, 30)</th>\n",
       "      <td>0.806955</td>\n",
       "      <td>0.444985</td>\n",
       "      <td>0.984699</td>\n",
       "      <td>0.806955</td>\n",
       "      <td>0.806955</td>\n",
       "      <td>-0.092554</td>\n",
       "      <td>-0.092554</td>\n",
       "      <td>-0.092554</td>\n",
       "      <td>-0.008227</td>\n",
       "      <td>-0.008227</td>\n",
       "      <td>-0.008227</td>\n",
       "      <td>-0.084327</td>\n",
       "      <td>-0.084327</td>\n",
       "      <td>-0.084327</td>\n",
       "      <td>0.0</td>\n",
       "      <td>0.0</td>\n",
       "      <td>0.0</td>\n",
       "      <td>0.714402</td>\n",
       "    </tr>\n",
       "    <tr>\n",
       "      <th>(9, 0)</th>\n",
       "      <td>0.806960</td>\n",
       "      <td>0.226105</td>\n",
       "      <td>0.766902</td>\n",
       "      <td>0.806960</td>\n",
       "      <td>0.806960</td>\n",
       "      <td>-0.321237</td>\n",
       "      <td>-0.321237</td>\n",
       "      <td>-0.321237</td>\n",
       "      <td>-0.244645</td>\n",
       "      <td>-0.244645</td>\n",
       "      <td>-0.244645</td>\n",
       "      <td>-0.076592</td>\n",
       "      <td>-0.076592</td>\n",
       "      <td>-0.076592</td>\n",
       "      <td>0.0</td>\n",
       "      <td>0.0</td>\n",
       "      <td>0.0</td>\n",
       "      <td>0.485723</td>\n",
       "    </tr>\n",
       "    <tr>\n",
       "      <th>(9, 30)</th>\n",
       "      <td>0.806965</td>\n",
       "      <td>0.045065</td>\n",
       "      <td>0.603785</td>\n",
       "      <td>0.806965</td>\n",
       "      <td>0.806965</td>\n",
       "      <td>-0.486922</td>\n",
       "      <td>-0.486922</td>\n",
       "      <td>-0.486922</td>\n",
       "      <td>-0.418056</td>\n",
       "      <td>-0.418056</td>\n",
       "      <td>-0.418056</td>\n",
       "      <td>-0.068866</td>\n",
       "      <td>-0.068866</td>\n",
       "      <td>-0.068866</td>\n",
       "      <td>0.0</td>\n",
       "      <td>0.0</td>\n",
       "      <td>0.0</td>\n",
       "      <td>0.320043</td>\n",
       "    </tr>\n",
       "    <tr>\n",
       "      <th>(10, 0)</th>\n",
       "      <td>0.806970</td>\n",
       "      <td>-0.051290</td>\n",
       "      <td>0.508494</td>\n",
       "      <td>0.806970</td>\n",
       "      <td>0.806970</td>\n",
       "      <td>-0.586515</td>\n",
       "      <td>-0.586515</td>\n",
       "      <td>-0.586515</td>\n",
       "      <td>-0.525345</td>\n",
       "      <td>-0.525345</td>\n",
       "      <td>-0.525345</td>\n",
       "      <td>-0.061170</td>\n",
       "      <td>-0.061170</td>\n",
       "      <td>-0.061170</td>\n",
       "      <td>0.0</td>\n",
       "      <td>0.0</td>\n",
       "      <td>0.0</td>\n",
       "      <td>0.220455</td>\n",
       "    </tr>\n",
       "    <tr>\n",
       "      <th>...</th>\n",
       "      <th>...</th>\n",
       "      <th>...</th>\n",
       "      <td>...</td>\n",
       "      <td>...</td>\n",
       "      <td>...</td>\n",
       "      <td>...</td>\n",
       "      <td>...</td>\n",
       "      <td>...</td>\n",
       "      <td>...</td>\n",
       "      <td>...</td>\n",
       "      <td>...</td>\n",
       "      <td>...</td>\n",
       "      <td>...</td>\n",
       "      <td>...</td>\n",
       "      <td>...</td>\n",
       "      <td>...</td>\n",
       "      <td>...</td>\n",
       "      <td>...</td>\n",
       "      <td>...</td>\n",
       "      <td>...</td>\n",
       "    </tr>\n",
       "    <tr>\n",
       "      <th rowspan=\"5\" valign=\"top\">72060</th>\n",
       "      <th rowspan=\"5\" valign=\"top\">4</th>\n",
       "      <th>(19, 30)</th>\n",
       "      <td>0.737865</td>\n",
       "      <td>0.309558</td>\n",
       "      <td>1.083106</td>\n",
       "      <td>0.737865</td>\n",
       "      <td>0.737865</td>\n",
       "      <td>-0.038743</td>\n",
       "      <td>-0.038743</td>\n",
       "      <td>-0.038743</td>\n",
       "      <td>-0.035925</td>\n",
       "      <td>-0.035925</td>\n",
       "      <td>-0.035925</td>\n",
       "      <td>-0.002818</td>\n",
       "      <td>-0.002818</td>\n",
       "      <td>-0.002818</td>\n",
       "      <td>0.0</td>\n",
       "      <td>0.0</td>\n",
       "      <td>0.0</td>\n",
       "      <td>0.699122</td>\n",
       "    </tr>\n",
       "    <tr>\n",
       "      <th>(20, 0)</th>\n",
       "      <td>0.737831</td>\n",
       "      <td>0.292995</td>\n",
       "      <td>1.066098</td>\n",
       "      <td>0.737831</td>\n",
       "      <td>0.737831</td>\n",
       "      <td>-0.050462</td>\n",
       "      <td>-0.050462</td>\n",
       "      <td>-0.050462</td>\n",
       "      <td>-0.049088</td>\n",
       "      <td>-0.049088</td>\n",
       "      <td>-0.049088</td>\n",
       "      <td>-0.001374</td>\n",
       "      <td>-0.001374</td>\n",
       "      <td>-0.001374</td>\n",
       "      <td>0.0</td>\n",
       "      <td>0.0</td>\n",
       "      <td>0.0</td>\n",
       "      <td>0.687369</td>\n",
       "    </tr>\n",
       "    <tr>\n",
       "      <th>(20, 30)</th>\n",
       "      <td>0.737796</td>\n",
       "      <td>0.308266</td>\n",
       "      <td>1.049405</td>\n",
       "      <td>0.737796</td>\n",
       "      <td>0.737796</td>\n",
       "      <td>-0.061026</td>\n",
       "      <td>-0.061026</td>\n",
       "      <td>-0.061026</td>\n",
       "      <td>-0.061125</td>\n",
       "      <td>-0.061125</td>\n",
       "      <td>-0.061125</td>\n",
       "      <td>0.000099</td>\n",
       "      <td>0.000099</td>\n",
       "      <td>0.000099</td>\n",
       "      <td>0.0</td>\n",
       "      <td>0.0</td>\n",
       "      <td>0.0</td>\n",
       "      <td>0.676770</td>\n",
       "    </tr>\n",
       "    <tr>\n",
       "      <th>(21, 0)</th>\n",
       "      <td>0.737762</td>\n",
       "      <td>0.330418</td>\n",
       "      <td>1.066643</td>\n",
       "      <td>0.737762</td>\n",
       "      <td>0.737762</td>\n",
       "      <td>-0.069514</td>\n",
       "      <td>-0.069514</td>\n",
       "      <td>-0.069514</td>\n",
       "      <td>-0.071109</td>\n",
       "      <td>-0.071109</td>\n",
       "      <td>-0.071109</td>\n",
       "      <td>0.001595</td>\n",
       "      <td>0.001595</td>\n",
       "      <td>0.001595</td>\n",
       "      <td>0.0</td>\n",
       "      <td>0.0</td>\n",
       "      <td>0.0</td>\n",
       "      <td>0.668248</td>\n",
       "    </tr>\n",
       "    <tr>\n",
       "      <th>(21, 30)</th>\n",
       "      <td>0.737727</td>\n",
       "      <td>0.316568</td>\n",
       "      <td>1.031554</td>\n",
       "      <td>0.737727</td>\n",
       "      <td>0.737727</td>\n",
       "      <td>-0.075308</td>\n",
       "      <td>-0.075308</td>\n",
       "      <td>-0.075308</td>\n",
       "      <td>-0.078421</td>\n",
       "      <td>-0.078421</td>\n",
       "      <td>-0.078421</td>\n",
       "      <td>0.003112</td>\n",
       "      <td>0.003112</td>\n",
       "      <td>0.003112</td>\n",
       "      <td>0.0</td>\n",
       "      <td>0.0</td>\n",
       "      <td>0.0</td>\n",
       "      <td>0.662419</td>\n",
       "    </tr>\n",
       "  </tbody>\n",
       "</table>\n",
       "<p>52080 rows × 18 columns</p>\n",
       "</div>"
      ],
      "text/plain": [
       "                                 trend  yhat_lower  yhat_upper  trend_lower  \\\n",
       "zone_id day_of_week semihour                                                  \n",
       "17012   0           (8, 0)    0.806951    0.716495    1.275695     0.806951   \n",
       "                    (8, 30)   0.806955    0.444985    0.984699     0.806955   \n",
       "                    (9, 0)    0.806960    0.226105    0.766902     0.806960   \n",
       "                    (9, 30)   0.806965    0.045065    0.603785     0.806965   \n",
       "                    (10, 0)   0.806970   -0.051290    0.508494     0.806970   \n",
       "...                                ...         ...         ...          ...   \n",
       "72060   4           (19, 30)  0.737865    0.309558    1.083106     0.737865   \n",
       "                    (20, 0)   0.737831    0.292995    1.066098     0.737831   \n",
       "                    (20, 30)  0.737796    0.308266    1.049405     0.737796   \n",
       "                    (21, 0)   0.737762    0.330418    1.066643     0.737762   \n",
       "                    (21, 30)  0.737727    0.316568    1.031554     0.737727   \n",
       "\n",
       "                              trend_upper  additive_terms  \\\n",
       "zone_id day_of_week semihour                                \n",
       "17012   0           (8, 0)       0.806951        0.183731   \n",
       "                    (8, 30)      0.806955       -0.092554   \n",
       "                    (9, 0)       0.806960       -0.321237   \n",
       "                    (9, 30)      0.806965       -0.486922   \n",
       "                    (10, 0)      0.806970       -0.586515   \n",
       "...                                   ...             ...   \n",
       "72060   4           (19, 30)     0.737865       -0.038743   \n",
       "                    (20, 0)      0.737831       -0.050462   \n",
       "                    (20, 30)     0.737796       -0.061026   \n",
       "                    (21, 0)      0.737762       -0.069514   \n",
       "                    (21, 30)     0.737727       -0.075308   \n",
       "\n",
       "                              additive_terms_lower  additive_terms_upper  \\\n",
       "zone_id day_of_week semihour                                               \n",
       "17012   0           (8, 0)                0.183731              0.183731   \n",
       "                    (8, 30)              -0.092554             -0.092554   \n",
       "                    (9, 0)               -0.321237             -0.321237   \n",
       "                    (9, 30)              -0.486922             -0.486922   \n",
       "                    (10, 0)              -0.586515             -0.586515   \n",
       "...                                            ...                   ...   \n",
       "72060   4           (19, 30)             -0.038743             -0.038743   \n",
       "                    (20, 0)              -0.050462             -0.050462   \n",
       "                    (20, 30)             -0.061026             -0.061026   \n",
       "                    (21, 0)              -0.069514             -0.069514   \n",
       "                    (21, 30)             -0.075308             -0.075308   \n",
       "\n",
       "                                 daily  daily_lower  daily_upper    weekly  \\\n",
       "zone_id day_of_week semihour                                                 \n",
       "17012   0           (8, 0)    0.275780     0.275780     0.275780 -0.092049   \n",
       "                    (8, 30)  -0.008227    -0.008227    -0.008227 -0.084327   \n",
       "                    (9, 0)   -0.244645    -0.244645    -0.244645 -0.076592   \n",
       "                    (9, 30)  -0.418056    -0.418056    -0.418056 -0.068866   \n",
       "                    (10, 0)  -0.525345    -0.525345    -0.525345 -0.061170   \n",
       "...                                ...          ...          ...       ...   \n",
       "72060   4           (19, 30) -0.035925    -0.035925    -0.035925 -0.002818   \n",
       "                    (20, 0)  -0.049088    -0.049088    -0.049088 -0.001374   \n",
       "                    (20, 30) -0.061125    -0.061125    -0.061125  0.000099   \n",
       "                    (21, 0)  -0.071109    -0.071109    -0.071109  0.001595   \n",
       "                    (21, 30) -0.078421    -0.078421    -0.078421  0.003112   \n",
       "\n",
       "                              weekly_lower  weekly_upper  \\\n",
       "zone_id day_of_week semihour                               \n",
       "17012   0           (8, 0)       -0.092049     -0.092049   \n",
       "                    (8, 30)      -0.084327     -0.084327   \n",
       "                    (9, 0)       -0.076592     -0.076592   \n",
       "                    (9, 30)      -0.068866     -0.068866   \n",
       "                    (10, 0)      -0.061170     -0.061170   \n",
       "...                                    ...           ...   \n",
       "72060   4           (19, 30)     -0.002818     -0.002818   \n",
       "                    (20, 0)      -0.001374     -0.001374   \n",
       "                    (20, 30)      0.000099      0.000099   \n",
       "                    (21, 0)       0.001595      0.001595   \n",
       "                    (21, 30)      0.003112      0.003112   \n",
       "\n",
       "                              multiplicative_terms  \\\n",
       "zone_id day_of_week semihour                         \n",
       "17012   0           (8, 0)                     0.0   \n",
       "                    (8, 30)                    0.0   \n",
       "                    (9, 0)                     0.0   \n",
       "                    (9, 30)                    0.0   \n",
       "                    (10, 0)                    0.0   \n",
       "...                                            ...   \n",
       "72060   4           (19, 30)                   0.0   \n",
       "                    (20, 0)                    0.0   \n",
       "                    (20, 30)                   0.0   \n",
       "                    (21, 0)                    0.0   \n",
       "                    (21, 30)                   0.0   \n",
       "\n",
       "                              multiplicative_terms_lower  \\\n",
       "zone_id day_of_week semihour                               \n",
       "17012   0           (8, 0)                           0.0   \n",
       "                    (8, 30)                          0.0   \n",
       "                    (9, 0)                           0.0   \n",
       "                    (9, 30)                          0.0   \n",
       "                    (10, 0)                          0.0   \n",
       "...                                                  ...   \n",
       "72060   4           (19, 30)                         0.0   \n",
       "                    (20, 0)                          0.0   \n",
       "                    (20, 30)                         0.0   \n",
       "                    (21, 0)                          0.0   \n",
       "                    (21, 30)                         0.0   \n",
       "\n",
       "                              multiplicative_terms_upper      yhat  \n",
       "zone_id day_of_week semihour                                        \n",
       "17012   0           (8, 0)                           0.0  0.990681  \n",
       "                    (8, 30)                          0.0  0.714402  \n",
       "                    (9, 0)                           0.0  0.485723  \n",
       "                    (9, 30)                          0.0  0.320043  \n",
       "                    (10, 0)                          0.0  0.220455  \n",
       "...                                                  ...       ...  \n",
       "72060   4           (19, 30)                         0.0  0.699122  \n",
       "                    (20, 0)                          0.0  0.687369  \n",
       "                    (20, 30)                         0.0  0.676770  \n",
       "                    (21, 0)                          0.0  0.668248  \n",
       "                    (21, 30)                         0.0  0.662419  \n",
       "\n",
       "[52080 rows x 18 columns]"
      ]
     },
     "execution_count": 742,
     "metadata": {},
     "output_type": "execute_result"
    }
   ],
   "source": [
    "forecasts_sept2019\n",
    "\n",
    "# .reset_index(level=-1).assign(\n",
    "#     semihour=lambda df: df.ds\n",
    "#                           .map(lambda s: (s.hour, 30 * (s.minute // 30)))\n",
    "# )\n",
    "\n",
    "# loc(forecasts_sept2019, columns_criterion='ds')\n",
    "# forecasts_sept2019.reset_index(level=-1).ds.map(lambda s: (s.dayofweek, s.hour, 30 * (s.minute // 30)))"
   ]
  },
  {
   "cell_type": "code",
   "execution_count": 701,
   "metadata": {},
   "outputs": [],
   "source": [
    "mae_sept2019 = pd.DataFrame(\n",
    "    mae(\n",
    "        loc(y_test_sept2019, columns_criterion='available_rate'),\n",
    "        pipe(\n",
    "            forecasts_by_start_date,\n",
    "            to=lambda df: df[['ds', 'yhat']].set_index('ds').yhat.clip(0, 1)\n",
    "        )\n",
    "    )\n",
    ")\n",
    "mae_sept2019.columns = mae_sept2019.columns.map(\n",
    "    lambda x: (pd.Timestamp(x) + pd.Timedelta(days=371)).date())\n",
    "\n",
    "mae_pandemic = pd.DataFrame(\n",
    "    mae(\n",
    "        loc(y_test_pandemic, columns_criterion='available_rate'),\n",
    "        pipe(\n",
    "            pandemic_forecasts_by_start_date,\n",
    "            to=lambda df: df[['ds', 'yhat']].set_index('ds').yhat.clip(0, 1)\n",
    "        )\n",
    "    )\n",
    ")\n",
    "mae_pandemic.columns = mae_pandemic.columns.map(\n",
    "    lambda x: (pd.Timestamp(x) + pd.Timedelta(days=371)).date())"
   ]
  },
  {
   "cell_type": "code",
   "execution_count": 681,
   "metadata": {},
   "outputs": [
    {
     "data": {
      "image/png": "[encoded data removed]",
      "text/plain": [
       "<Figure size 1152x432 with 4 Axes>"
      ]
     },
     "metadata": {},
     "output_type": "display_data"
    }
   ],
   "source": [
    "fig, axes = plt.subplots(2, 2, figsize=(16, 6), sharex=True, sharey=True)\n",
    "sns.histplot(pd.DataFrame(mae_sept2019.stack().groupby(level=0).mean().rename('Zone MAE')), ax=axes[0][0]);\n",
    "sns.histplot(pd.DataFrame(mae_pandemic.stack().groupby(level=0).mean().rename('Zone MAE')), ax=axes[0][1]);\n",
    "sns.histplot(pd.DataFrame(mae_sept2019), ax=axes[1][0]);\n",
    "sns.histplot(pd.DataFrame(mae_pandemic), ax=axes[1][1]);"
   ]
  },
  {
   "cell_type": "code",
   "execution_count": 40,
   "metadata": {},
   "outputs": [
    {
     "data": {
      "image/png": "[encoded data removed]",
      "text/plain": [
       "<Figure size 2304x216 with 4 Axes>"
      ]
     },
     "metadata": {},
     "output_type": "display_data"
    }
   ],
   "source": [
    "fig, axes = plt.subplots(1, 4, figsize=(32, 3), sharex=True, sharey=True, squeeze=False)\n",
    "for plot_idx, weeks in enumerate([1, 4, 12, 24]):\n",
    "    occupancy = occupancy.assign(\n",
    "        **{\n",
    "            f'ae_{weeks}w_rolling': lambda df: df[f'forecast_error_{weeks}w_rolling'].abs()\n",
    "        }\n",
    "    ).assign(\n",
    "        **{\n",
    "            f'mae_{weeks}w_rolling': lambda df: df.groupby(['zone_id'])[f'ae_{weeks}w_rolling'].mean()\n",
    "        }\n",
    "    )\n",
    "    sns.histplot(\n",
    "        occupancy[f'mae_{weeks}w_rolling'].rename(f'Zone MAE: {weeks} Week Rolling Average'),\n",
    "        ax=axes[0][plot_idx]\n",
    "    );\n",
    "#     sns.histplot(pd.DataFrame(mae_pandemic.stack().groupby(level=0).mean().rename('Zone MAE')), ax=axes[0][1]);"
   ]
  },
  {
   "cell_type": "code",
   "execution_count": 665,
   "metadata": {},
   "outputs": [
    {
     "data": {
      "text/html": [
       "<div>\n",
       "<style scoped>\n",
       "    .dataframe tbody tr th:only-of-type {\n",
       "        vertical-align: middle;\n",
       "    }\n",
       "\n",
       "    .dataframe tbody tr th {\n",
       "        vertical-align: top;\n",
       "    }\n",
       "\n",
       "    .dataframe thead th {\n",
       "        text-align: right;\n",
       "    }\n",
       "</style>\n",
       "<table border=\"1\" class=\"dataframe\">\n",
       "  <thead>\n",
       "    <tr style=\"text-align: right;\">\n",
       "      <th></th>\n",
       "      <th>2019-09-23</th>\n",
       "      <th>2019-09-24</th>\n",
       "      <th>2019-09-25</th>\n",
       "      <th>2019-09-26</th>\n",
       "      <th>2019-09-27</th>\n",
       "      <th>2019-09-28</th>\n",
       "    </tr>\n",
       "  </thead>\n",
       "  <tbody>\n",
       "    <tr>\n",
       "      <th>count</th>\n",
       "      <td>359.000000</td>\n",
       "      <td>359.000000</td>\n",
       "      <td>358.000000</td>\n",
       "      <td>358.000000</td>\n",
       "      <td>358.000000</td>\n",
       "      <td>351.000000</td>\n",
       "    </tr>\n",
       "    <tr>\n",
       "      <th>mean</th>\n",
       "      <td>0.178063</td>\n",
       "      <td>0.193245</td>\n",
       "      <td>0.189436</td>\n",
       "      <td>0.200689</td>\n",
       "      <td>0.188607</td>\n",
       "      <td>0.365322</td>\n",
       "    </tr>\n",
       "    <tr>\n",
       "      <th>std</th>\n",
       "      <td>0.085368</td>\n",
       "      <td>0.106297</td>\n",
       "      <td>0.108805</td>\n",
       "      <td>0.125865</td>\n",
       "      <td>0.105845</td>\n",
       "      <td>0.193508</td>\n",
       "    </tr>\n",
       "    <tr>\n",
       "      <th>min</th>\n",
       "      <td>0.000000</td>\n",
       "      <td>0.017857</td>\n",
       "      <td>0.026786</td>\n",
       "      <td>0.005233</td>\n",
       "      <td>0.002464</td>\n",
       "      <td>0.011604</td>\n",
       "    </tr>\n",
       "    <tr>\n",
       "      <th>0%</th>\n",
       "      <td>0.000000</td>\n",
       "      <td>0.017857</td>\n",
       "      <td>0.026786</td>\n",
       "      <td>0.005233</td>\n",
       "      <td>0.002464</td>\n",
       "      <td>0.011604</td>\n",
       "    </tr>\n",
       "    <tr>\n",
       "      <th>10%</th>\n",
       "      <td>0.095167</td>\n",
       "      <td>0.095749</td>\n",
       "      <td>0.092454</td>\n",
       "      <td>0.092862</td>\n",
       "      <td>0.089803</td>\n",
       "      <td>0.159060</td>\n",
       "    </tr>\n",
       "    <tr>\n",
       "      <th>20%</th>\n",
       "      <td>0.115928</td>\n",
       "      <td>0.123022</td>\n",
       "      <td>0.113134</td>\n",
       "      <td>0.117979</td>\n",
       "      <td>0.108903</td>\n",
       "      <td>0.203694</td>\n",
       "    </tr>\n",
       "    <tr>\n",
       "      <th>30%</th>\n",
       "      <td>0.131516</td>\n",
       "      <td>0.141589</td>\n",
       "      <td>0.132657</td>\n",
       "      <td>0.136974</td>\n",
       "      <td>0.126523</td>\n",
       "      <td>0.231674</td>\n",
       "    </tr>\n",
       "    <tr>\n",
       "      <th>40%</th>\n",
       "      <td>0.143242</td>\n",
       "      <td>0.153846</td>\n",
       "      <td>0.150781</td>\n",
       "      <td>0.156497</td>\n",
       "      <td>0.144877</td>\n",
       "      <td>0.283075</td>\n",
       "    </tr>\n",
       "    <tr>\n",
       "      <th>50%</th>\n",
       "      <td>0.157013</td>\n",
       "      <td>0.172594</td>\n",
       "      <td>0.166528</td>\n",
       "      <td>0.175293</td>\n",
       "      <td>0.166199</td>\n",
       "      <td>0.327119</td>\n",
       "    </tr>\n",
       "    <tr>\n",
       "      <th>60%</th>\n",
       "      <td>0.180043</td>\n",
       "      <td>0.195942</td>\n",
       "      <td>0.182582</td>\n",
       "      <td>0.195320</td>\n",
       "      <td>0.186804</td>\n",
       "      <td>0.380952</td>\n",
       "    </tr>\n",
       "    <tr>\n",
       "      <th>70%</th>\n",
       "      <td>0.202372</td>\n",
       "      <td>0.213527</td>\n",
       "      <td>0.202359</td>\n",
       "      <td>0.219939</td>\n",
       "      <td>0.219132</td>\n",
       "      <td>0.445012</td>\n",
       "    </tr>\n",
       "    <tr>\n",
       "      <th>80%</th>\n",
       "      <td>0.228092</td>\n",
       "      <td>0.238042</td>\n",
       "      <td>0.237084</td>\n",
       "      <td>0.249553</td>\n",
       "      <td>0.250377</td>\n",
       "      <td>0.520940</td>\n",
       "    </tr>\n",
       "    <tr>\n",
       "      <th>90%</th>\n",
       "      <td>0.272019</td>\n",
       "      <td>0.294500</td>\n",
       "      <td>0.293038</td>\n",
       "      <td>0.307855</td>\n",
       "      <td>0.322896</td>\n",
       "      <td>0.622595</td>\n",
       "    </tr>\n",
       "    <tr>\n",
       "      <th>100%</th>\n",
       "      <td>0.759789</td>\n",
       "      <td>0.942044</td>\n",
       "      <td>0.765865</td>\n",
       "      <td>0.816410</td>\n",
       "      <td>0.866553</td>\n",
       "      <td>1.000000</td>\n",
       "    </tr>\n",
       "    <tr>\n",
       "      <th>max</th>\n",
       "      <td>0.759789</td>\n",
       "      <td>0.942044</td>\n",
       "      <td>0.765865</td>\n",
       "      <td>0.816410</td>\n",
       "      <td>0.866553</td>\n",
       "      <td>1.000000</td>\n",
       "    </tr>\n",
       "  </tbody>\n",
       "</table>\n",
       "</div>"
      ],
      "text/plain": [
       "       2019-09-23  2019-09-24  2019-09-25  2019-09-26  2019-09-27  2019-09-28\n",
       "count  359.000000  359.000000  358.000000  358.000000  358.000000  351.000000\n",
       "mean     0.178063    0.193245    0.189436    0.200689    0.188607    0.365322\n",
       "std      0.085368    0.106297    0.108805    0.125865    0.105845    0.193508\n",
       "min      0.000000    0.017857    0.026786    0.005233    0.002464    0.011604\n",
       "0%       0.000000    0.017857    0.026786    0.005233    0.002464    0.011604\n",
       "10%      0.095167    0.095749    0.092454    0.092862    0.089803    0.159060\n",
       "20%      0.115928    0.123022    0.113134    0.117979    0.108903    0.203694\n",
       "30%      0.131516    0.141589    0.132657    0.136974    0.126523    0.231674\n",
       "40%      0.143242    0.153846    0.150781    0.156497    0.144877    0.283075\n",
       "50%      0.157013    0.172594    0.166528    0.175293    0.166199    0.327119\n",
       "60%      0.180043    0.195942    0.182582    0.195320    0.186804    0.380952\n",
       "70%      0.202372    0.213527    0.202359    0.219939    0.219132    0.445012\n",
       "80%      0.228092    0.238042    0.237084    0.249553    0.250377    0.520940\n",
       "90%      0.272019    0.294500    0.293038    0.307855    0.322896    0.622595\n",
       "100%     0.759789    0.942044    0.765865    0.816410    0.866553    1.000000\n",
       "max      0.759789    0.942044    0.765865    0.816410    0.866553    1.000000"
      ]
     },
     "metadata": {},
     "output_type": "display_data"
    },
    {
     "data": {
      "text/html": [
       "<div>\n",
       "<style scoped>\n",
       "    .dataframe tbody tr th:only-of-type {\n",
       "        vertical-align: middle;\n",
       "    }\n",
       "\n",
       "    .dataframe tbody tr th {\n",
       "        vertical-align: top;\n",
       "    }\n",
       "\n",
       "    .dataframe thead th {\n",
       "        text-align: right;\n",
       "    }\n",
       "</style>\n",
       "<table border=\"1\" class=\"dataframe\">\n",
       "  <thead>\n",
       "    <tr style=\"text-align: right;\">\n",
       "      <th></th>\n",
       "      <th>2020-08-24</th>\n",
       "      <th>2020-08-25</th>\n",
       "      <th>2020-08-26</th>\n",
       "      <th>2020-08-27</th>\n",
       "      <th>2020-08-28</th>\n",
       "      <th>2020-08-29</th>\n",
       "    </tr>\n",
       "  </thead>\n",
       "  <tbody>\n",
       "    <tr>\n",
       "      <th>count</th>\n",
       "      <td>403.000000</td>\n",
       "      <td>403.000000</td>\n",
       "      <td>402.000000</td>\n",
       "      <td>402.000000</td>\n",
       "      <td>404.000000</td>\n",
       "      <td>405.000000</td>\n",
       "    </tr>\n",
       "    <tr>\n",
       "      <th>mean</th>\n",
       "      <td>0.197815</td>\n",
       "      <td>0.205783</td>\n",
       "      <td>0.206410</td>\n",
       "      <td>0.257344</td>\n",
       "      <td>0.197981</td>\n",
       "      <td>0.208419</td>\n",
       "    </tr>\n",
       "    <tr>\n",
       "      <th>std</th>\n",
       "      <td>0.095263</td>\n",
       "      <td>0.086473</td>\n",
       "      <td>0.098347</td>\n",
       "      <td>0.111397</td>\n",
       "      <td>0.088647</td>\n",
       "      <td>0.114805</td>\n",
       "    </tr>\n",
       "    <tr>\n",
       "      <th>min</th>\n",
       "      <td>0.000000</td>\n",
       "      <td>0.002054</td>\n",
       "      <td>0.001434</td>\n",
       "      <td>0.001010</td>\n",
       "      <td>0.001887</td>\n",
       "      <td>0.000000</td>\n",
       "    </tr>\n",
       "    <tr>\n",
       "      <th>0%</th>\n",
       "      <td>0.000000</td>\n",
       "      <td>0.002054</td>\n",
       "      <td>0.001434</td>\n",
       "      <td>0.001010</td>\n",
       "      <td>0.001887</td>\n",
       "      <td>0.000000</td>\n",
       "    </tr>\n",
       "    <tr>\n",
       "      <th>10%</th>\n",
       "      <td>0.084515</td>\n",
       "      <td>0.101965</td>\n",
       "      <td>0.101966</td>\n",
       "      <td>0.120919</td>\n",
       "      <td>0.096851</td>\n",
       "      <td>0.063302</td>\n",
       "    </tr>\n",
       "    <tr>\n",
       "      <th>20%</th>\n",
       "      <td>0.115670</td>\n",
       "      <td>0.129341</td>\n",
       "      <td>0.129425</td>\n",
       "      <td>0.160489</td>\n",
       "      <td>0.127082</td>\n",
       "      <td>0.113823</td>\n",
       "    </tr>\n",
       "    <tr>\n",
       "      <th>30%</th>\n",
       "      <td>0.145438</td>\n",
       "      <td>0.157906</td>\n",
       "      <td>0.145268</td>\n",
       "      <td>0.189953</td>\n",
       "      <td>0.146414</td>\n",
       "      <td>0.142832</td>\n",
       "    </tr>\n",
       "    <tr>\n",
       "      <th>40%</th>\n",
       "      <td>0.166275</td>\n",
       "      <td>0.181971</td>\n",
       "      <td>0.169396</td>\n",
       "      <td>0.222864</td>\n",
       "      <td>0.167548</td>\n",
       "      <td>0.172717</td>\n",
       "    </tr>\n",
       "    <tr>\n",
       "      <th>50%</th>\n",
       "      <td>0.189178</td>\n",
       "      <td>0.197954</td>\n",
       "      <td>0.191093</td>\n",
       "      <td>0.246508</td>\n",
       "      <td>0.188541</td>\n",
       "      <td>0.194679</td>\n",
       "    </tr>\n",
       "    <tr>\n",
       "      <th>60%</th>\n",
       "      <td>0.207898</td>\n",
       "      <td>0.217373</td>\n",
       "      <td>0.218080</td>\n",
       "      <td>0.283546</td>\n",
       "      <td>0.214197</td>\n",
       "      <td>0.224529</td>\n",
       "    </tr>\n",
       "    <tr>\n",
       "      <th>70%</th>\n",
       "      <td>0.235047</td>\n",
       "      <td>0.242218</td>\n",
       "      <td>0.237385</td>\n",
       "      <td>0.310447</td>\n",
       "      <td>0.232207</td>\n",
       "      <td>0.260081</td>\n",
       "    </tr>\n",
       "    <tr>\n",
       "      <th>80%</th>\n",
       "      <td>0.270654</td>\n",
       "      <td>0.269938</td>\n",
       "      <td>0.270251</td>\n",
       "      <td>0.349648</td>\n",
       "      <td>0.261757</td>\n",
       "      <td>0.306388</td>\n",
       "    </tr>\n",
       "    <tr>\n",
       "      <th>90%</th>\n",
       "      <td>0.324047</td>\n",
       "      <td>0.324318</td>\n",
       "      <td>0.329840</td>\n",
       "      <td>0.400206</td>\n",
       "      <td>0.311564</td>\n",
       "      <td>0.359851</td>\n",
       "    </tr>\n",
       "    <tr>\n",
       "      <th>100%</th>\n",
       "      <td>0.657036</td>\n",
       "      <td>0.504280</td>\n",
       "      <td>0.598977</td>\n",
       "      <td>0.598686</td>\n",
       "      <td>0.558395</td>\n",
       "      <td>0.599335</td>\n",
       "    </tr>\n",
       "    <tr>\n",
       "      <th>max</th>\n",
       "      <td>0.657036</td>\n",
       "      <td>0.504280</td>\n",
       "      <td>0.598977</td>\n",
       "      <td>0.598686</td>\n",
       "      <td>0.558395</td>\n",
       "      <td>0.599335</td>\n",
       "    </tr>\n",
       "  </tbody>\n",
       "</table>\n",
       "</div>"
      ],
      "text/plain": [
       "       2020-08-24  2020-08-25  2020-08-26  2020-08-27  2020-08-28  2020-08-29\n",
       "count  403.000000  403.000000  402.000000  402.000000  404.000000  405.000000\n",
       "mean     0.197815    0.205783    0.206410    0.257344    0.197981    0.208419\n",
       "std      0.095263    0.086473    0.098347    0.111397    0.088647    0.114805\n",
       "min      0.000000    0.002054    0.001434    0.001010    0.001887    0.000000\n",
       "0%       0.000000    0.002054    0.001434    0.001010    0.001887    0.000000\n",
       "10%      0.084515    0.101965    0.101966    0.120919    0.096851    0.063302\n",
       "20%      0.115670    0.129341    0.129425    0.160489    0.127082    0.113823\n",
       "30%      0.145438    0.157906    0.145268    0.189953    0.146414    0.142832\n",
       "40%      0.166275    0.181971    0.169396    0.222864    0.167548    0.172717\n",
       "50%      0.189178    0.197954    0.191093    0.246508    0.188541    0.194679\n",
       "60%      0.207898    0.217373    0.218080    0.283546    0.214197    0.224529\n",
       "70%      0.235047    0.242218    0.237385    0.310447    0.232207    0.260081\n",
       "80%      0.270654    0.269938    0.270251    0.349648    0.261757    0.306388\n",
       "90%      0.324047    0.324318    0.329840    0.400206    0.311564    0.359851\n",
       "100%     0.657036    0.504280    0.598977    0.598686    0.558395    0.599335\n",
       "max      0.657036    0.504280    0.598977    0.598686    0.558395    0.599335"
      ]
     },
     "metadata": {},
     "output_type": "display_data"
    }
   ],
   "source": [
    "display(mae_sept2019.describe(percentiles=np.linspace(0, 1, 11)))\n",
    "display(mae_pandemic.describe(percentiles=np.linspace(0, 1, 11)))"
   ]
  },
  {
   "cell_type": "markdown",
   "metadata": {},
   "source": [
    "## ParkColumbus Performance"
   ]
  },
  {
   "cell_type": "code",
   "execution_count": 747,
   "metadata": {},
   "outputs": [],
   "source": [
    "mae_sept2019_nested = mae(\n",
    "    loc(y_test_sept2019, columns_criterion='available_rate'),\n",
    "    pipe(\n",
    "        forecasts_by_start_date,\n",
    "        to=lambda df: df[['ds', 'yhat']].set_index('ds').yhat.clip(0, 1)\n",
    "    )\n",
    ")"
   ]
  },
  {
   "cell_type": "code",
   "execution_count": 779,
   "metadata": {},
   "outputs": [],
   "source": [
    "def flatten_predictions(predictions_by_day_and_zone, ignore_index=False):\n",
    "    return pd.concat([\n",
    "        predictions.assign(zone_id=zone_id)\n",
    "        for predictions_by_zone in predictions_by_day_and_zone.values()\n",
    "        for zone_id, predictions in predictions_by_zone.items()\n",
    "    ], ignore_index=ignore_index)\n",
    "\n",
    "\n",
    "forecasts_sept2019 = flatten_predictions(forecasts_by_start_date, ignore_index=True)\n",
    "forecasts_pandemic = flatten_predictions(pandemic_forecasts_by_start_date, ignore_index=True)"
   ]
  },
  {
   "cell_type": "code",
   "execution_count": 791,
   "metadata": {},
   "outputs": [],
   "source": [
    "y_test_sept2019_flat = flatten_predictions(y_test_sept2019)\n",
    "y_test_pandemic_flat = flatten_predictions(y_test_pandemic)"
   ]
  },
  {
   "cell_type": "code",
   "execution_count": 832,
   "metadata": {},
   "outputs": [],
   "source": [
    "y_test_sept2019_flat_cn = y_test_sept2019_flat.reset_index().rename(columns={'semihour': 'ds'}).dropna(subset=['ds']).set_index(['ds', 'zone_id']).available_rate.sort_index()\n",
    "forecasts_sept2019_cn = forecasts_sept2019.set_index(['ds', 'zone_id']).yhat.clip(0, 1).sort_index()\n",
    "\n",
    "y_test_pandemic_flat_cn = y_test_pandemic_flat.reset_index().rename(columns={'semihour': 'ds'}).dropna(subset=['ds']).set_index(['ds', 'zone_id']).available_rate.sort_index()\n",
    "forecasts_pandemic_cn = forecasts_pandemic.set_index(['ds', 'zone_id']).yhat.clip(0, 1).sort_index()"
   ]
  },
  {
   "cell_type": "code",
   "execution_count": 833,
   "metadata": {},
   "outputs": [],
   "source": [
    "common_indices_sept2019 = set(y_test_sept2019_flat_cn.index) & set(forecasts_sept2019_cn.index)\n",
    "forecast_errors_sept2019 = (y_test_sept2019_flat_cn - forecasts_sept2019_cn)[common_indices_sept2019]\n",
    "\n",
    "common_indices_pandemic = set(y_test_pandemic_flat_cn.index) & set(forecasts_pandemic_cn.index)\n",
    "forecast_errors_pandemic = (y_test_pandemic_flat_cn - forecasts_pandemic_cn)[common_indices_pandemic]"
   ]
  },
  {
   "cell_type": "code",
   "execution_count": 838,
   "metadata": {},
   "outputs": [
    {
     "data": {
      "text/plain": [
       "<AxesSubplot:ylabel='Count'>"
      ]
     },
     "execution_count": 838,
     "metadata": {},
     "output_type": "execute_result"
    },
    {
     "data": {
      "image/png": "[encoded data removed]",
      "text/plain": [
       "<Figure size 1728x864 with 4 Axes>"
      ]
     },
     "metadata": {},
     "output_type": "display_data"
    }
   ],
   "source": [
    "fig, axes = plt.subplots(2, 2, figsize=(24, 12), sharex=True, sharey='row')\n",
    "\n",
    "sns.histplot(forecast_errors_sept2019.loc[lambda s: s != 0], ax=axes[0][0])\n",
    "sns.histplot(forecast_errors_sept2019.loc[lambda s: s != 0], cumulative=True, ax=axes[1][0])\n",
    "sns.histplot(forecast_errors_pandemic.loc[lambda s: s != 0], ax=axes[0][1])\n",
    "sns.histplot(forecast_errors_pandemic.loc[lambda s: s != 0], cumulative=True, ax=axes[1][1])"
   ]
  },
  {
   "cell_type": "markdown",
   "metadata": {},
   "source": [
    "## ParkColumbus Zone Prediction Efficacy"
   ]
  },
  {
   "cell_type": "code",
   "execution_count": 844,
   "metadata": {},
   "outputs": [],
   "source": [
    "availability_boundaries = [0, .20, .50, 1]\n",
    "availability_labels = ['Red', 'Yellow', 'Green']\n",
    "\n",
    "color_hat_sept2019 = pd.cut(\n",
    "    forecasts_sept2019_cn[common_indices_sept2019],\n",
    "    availability_boundaries,\n",
    "    include_lowest=True,\n",
    "    labels=availability_labels\n",
    ")\n",
    "color_sept2019 = pd.cut(\n",
    "    y_test_sept2019_flat_cn[common_indices_sept2019],\n",
    "    availability_boundaries,\n",
    "    include_lowest=True,\n",
    "    labels=availability_labels\n",
    ")\n",
    "\n",
    "color_hat_pandemic = pd.cut(\n",
    "    forecasts_pandemic_cn[common_indices_pandemic],\n",
    "    availability_boundaries,\n",
    "    include_lowest=True,\n",
    "    labels=availability_labels\n",
    ")\n",
    "color_pandemic = pd.cut(\n",
    "    y_test_pandemic_flat_cn[common_indices_pandemic],\n",
    "    availability_boundaries,\n",
    "    include_lowest=True,\n",
    "    labels=availability_labels\n",
    ")"
   ]
  },
  {
   "cell_type": "code",
   "execution_count": 845,
   "metadata": {},
   "outputs": [],
   "source": [
    "color_hat_sept2019_correct = color_hat_sept2019 == color_sept2019\n",
    "color_hat_sept2019_pessimistic = color_hat_sept2019 < color_sept2019\n",
    "color_hat_sept2019_optimistic = color_hat_sept2019 > color_sept2019\n",
    "\n",
    "color_hat_pandemic_correct = color_hat_pandemic == color_pandemic\n",
    "color_hat_pandemic_pessimistic = color_hat_pandemic < color_pandemic\n",
    "color_hat_pandemic_optimistic = color_hat_pandemic > color_pandemic"
   ]
  },
  {
   "cell_type": "code",
   "execution_count": 866,
   "metadata": {},
   "outputs": [
    {
     "data": {
      "text/plain": [
       "<BarContainer object of 3 artists>"
      ]
     },
     "execution_count": 866,
     "metadata": {},
     "output_type": "execute_result"
    },
    {
     "data": {
      "image/png": "[encoded data removed]",
      "text/plain": [
       "<Figure size 1296x216 with 3 Axes>"
      ]
     },
     "metadata": {},
     "output_type": "display_data"
    }
   ],
   "source": [
    "import matplotlib as mpl\n",
    "\n",
    "with open('agility.pkl', 'rb') as f:\n",
    "    production_model_outlook_ratios = pickle.load(f)\n",
    "\n",
    "sns.set_theme(style='whitegrid')\n",
    "fig, (ax1, ax2, ax3) = plt.subplots(1, 3, sharex=True, sharey=True, figsize=(18, 3))\n",
    "\n",
    "ax1.bar(\n",
    "    [1, 2, 3],\n",
    "    production_model_outlook_ratios\n",
    ")\n",
    "\n",
    "ax2.bar(\n",
    "    [1, 2, 3],\n",
    "    [\n",
    "        color_hat_sept2019_pessimistic.sum() / color_hat_sept2019_pessimistic.shape[0],\n",
    "        color_hat_sept2019_correct.sum() / color_hat_sept2019_pessimistic.shape[0],\n",
    "        color_hat_sept2019_optimistic.sum() / color_hat_sept2019_pessimistic.shape[0]\n",
    "    ]\n",
    ")\n",
    "# ax1.scatter(np.linspace(0.5, 3.5), 50 * [10000], marker='_')\n",
    "ax3.bar(\n",
    "    [1, 2, 3],\n",
    "    [\n",
    "        color_hat_pandemic_pessimistic.sum() / color_hat_pandemic_pessimistic.shape[0],\n",
    "        color_hat_pandemic_correct.sum() / color_hat_pandemic_pessimistic.shape[0],\n",
    "        color_hat_pandemic_optimistic.sum() / color_hat_pandemic_pessimistic.shape[0]\n",
    "    ]\n",
    ")\n",
    "# ax2.scatter(np.linspace(0.5, 3.5), 50 * [10000], marker='_')"
   ]
  }
 ],
 "metadata": {
  "kernelspec": {
   "display_name": "Python 3",
   "language": "python",
   "name": "python3"
  },
  "language_info": {
   "codemirror_mode": {
    "name": "ipython",
    "version": 3
   },
   "file_extension": ".py",
   "mimetype": "text/x-python",
   "name": "python",
   "nbconvert_exporter": "python",
   "pygments_lexer": "ipython3",
   "version": "3.8.1"
  },
  "toc": {
   "base_numbering": 1,
   "nav_menu": {},
   "number_sections": true,
   "sideBar": true,
   "skip_h1_title": false,
   "title_cell": "Table of Contents",
   "title_sidebar": "Contents",
   "toc_cell": false,
   "toc_position": {
    "height": "calc(100% - 180px)",
    "left": "10px",
    "top": "150px",
    "width": "304px"
   },
   "toc_section_display": true,
   "toc_window_display": true
  }
 },
 "nbformat": 4,
 "nbformat_minor": 4
}
